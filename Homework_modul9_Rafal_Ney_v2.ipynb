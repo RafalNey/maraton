{
 "cells": [
  {
   "cell_type": "markdown",
   "id": "7c5ac24e-a54e-479d-b25c-a99a6e2efad0",
   "metadata": {},
   "source": [
    "# Notebook - pipeline do trenowania modelu"
   ]
  },
  {
   "cell_type": "markdown",
   "id": "e4e20e82-229a-4361-ac00-032eec6adcda",
   "metadata": {},
   "source": [
    "## Zanim przejdziemy do trenowania modelu, przyjrzyjmy się wpierw danym, które mamy do dyspozycji. Zarówno z roku 2023 jak i 2024. Coś jakby pierwszy krok EDA."
   ]
  },
  {
   "cell_type": "markdown",
   "id": "a368ff1b-7492-44df-b54c-ea47daf38f0d",
   "metadata": {},
   "source": [
    "### Na pierwszy ogień pójdą dane z 2023 roku:"
   ]
  },
  {
   "cell_type": "code",
   "execution_count": 55,
   "id": "dea14ef8-130f-48d7-9f0c-9497a330ebf6",
   "metadata": {},
   "outputs": [],
   "source": [
    "#sekcja importowa\n",
    "import os\n",
    "import boto3\n",
    "import mlflow\n",
    "import pandas as pd\n",
    "from io import BytesIO\n",
    "from dotenv import load_dotenv\n",
    "import matplotlib.pyplot as plt\n",
    "from pycaret.regression import setup, compare_models, predict_model, evaluate_model, plot_model, finalize_model, save_model"
   ]
  },
  {
   "cell_type": "code",
   "execution_count": 2,
   "id": "0a5db537-0c2e-4d7c-a654-1da0aca92fbc",
   "metadata": {},
   "outputs": [],
   "source": [
    "# zobaczmy sobie wszystkie kolumny, bo nie jest ich aż tak dużo\n",
    "pd.set_option('display.max_columns', None)"
   ]
  },
  {
   "cell_type": "code",
   "execution_count": 3,
   "id": "3cdc7c8b-9de5-4bb7-b140-0e4ce4c6e3ab",
   "metadata": {},
   "outputs": [],
   "source": [
    "# wczytujemy pierwsza baze\n",
    "bieg_2023_df = pd.read_csv('halfmarathon_wroclaw_2023__final.csv', sep=';')"
   ]
  },
  {
   "cell_type": "code",
   "execution_count": 4,
   "id": "3da6558b-1fee-446d-8bce-b74d53d9f8ed",
   "metadata": {},
   "outputs": [
    {
     "data": {
      "text/html": [
       "<div>\n",
       "<style scoped>\n",
       "    .dataframe tbody tr th:only-of-type {\n",
       "        vertical-align: middle;\n",
       "    }\n",
       "\n",
       "    .dataframe tbody tr th {\n",
       "        vertical-align: top;\n",
       "    }\n",
       "\n",
       "    .dataframe thead th {\n",
       "        text-align: right;\n",
       "    }\n",
       "</style>\n",
       "<table border=\"1\" class=\"dataframe\">\n",
       "  <thead>\n",
       "    <tr style=\"text-align: right;\">\n",
       "      <th></th>\n",
       "      <th>Miejsce</th>\n",
       "      <th>Numer startowy</th>\n",
       "      <th>Imię</th>\n",
       "      <th>Nazwisko</th>\n",
       "      <th>Miasto</th>\n",
       "      <th>Kraj</th>\n",
       "      <th>Drużyna</th>\n",
       "      <th>Płeć</th>\n",
       "      <th>Płeć Miejsce</th>\n",
       "      <th>Kategoria wiekowa</th>\n",
       "      <th>Kategoria wiekowa Miejsce</th>\n",
       "      <th>Rocznik</th>\n",
       "      <th>5 km Czas</th>\n",
       "      <th>5 km Miejsce Open</th>\n",
       "      <th>5 km Tempo</th>\n",
       "      <th>10 km Czas</th>\n",
       "      <th>10 km Miejsce Open</th>\n",
       "      <th>10 km Tempo</th>\n",
       "      <th>15 km Czas</th>\n",
       "      <th>15 km Miejsce Open</th>\n",
       "      <th>15 km Tempo</th>\n",
       "      <th>20 km Czas</th>\n",
       "      <th>20 km Miejsce Open</th>\n",
       "      <th>20 km Tempo</th>\n",
       "      <th>Tempo Stabilność</th>\n",
       "      <th>Czas</th>\n",
       "      <th>Tempo</th>\n",
       "    </tr>\n",
       "  </thead>\n",
       "  <tbody>\n",
       "    <tr>\n",
       "      <th>4686</th>\n",
       "      <td>4687.0</td>\n",
       "      <td>8002</td>\n",
       "      <td>JULIANNA</td>\n",
       "      <td>BEŚKA</td>\n",
       "      <td>WROCŁAW</td>\n",
       "      <td>POL</td>\n",
       "      <td>NaN</td>\n",
       "      <td>K</td>\n",
       "      <td>829.0</td>\n",
       "      <td>K20</td>\n",
       "      <td>170.0</td>\n",
       "      <td>2001.0</td>\n",
       "      <td>00:29:18</td>\n",
       "      <td>5629.0</td>\n",
       "      <td>5.860000</td>\n",
       "      <td>00:58:47</td>\n",
       "      <td>5647.0</td>\n",
       "      <td>5.896667</td>\n",
       "      <td>01:27:49</td>\n",
       "      <td>5260.0</td>\n",
       "      <td>5.806667</td>\n",
       "      <td>01:58:41</td>\n",
       "      <td>4807.0</td>\n",
       "      <td>6.173333</td>\n",
       "      <td>0.017000</td>\n",
       "      <td>02:03:48</td>\n",
       "      <td>5.868689</td>\n",
       "    </tr>\n",
       "    <tr>\n",
       "      <th>6324</th>\n",
       "      <td>6325.0</td>\n",
       "      <td>3830</td>\n",
       "      <td>MARZENA</td>\n",
       "      <td>HILASZEK</td>\n",
       "      <td>GLIWICE</td>\n",
       "      <td>POL</td>\n",
       "      <td>NaN</td>\n",
       "      <td>K</td>\n",
       "      <td>1432.0</td>\n",
       "      <td>K40</td>\n",
       "      <td>523.0</td>\n",
       "      <td>1978.0</td>\n",
       "      <td>00:31:26</td>\n",
       "      <td>6741.0</td>\n",
       "      <td>6.286667</td>\n",
       "      <td>01:02:44</td>\n",
       "      <td>6606.0</td>\n",
       "      <td>6.260000</td>\n",
       "      <td>01:35:17</td>\n",
       "      <td>6519.0</td>\n",
       "      <td>6.510000</td>\n",
       "      <td>02:10:49</td>\n",
       "      <td>6368.0</td>\n",
       "      <td>7.106667</td>\n",
       "      <td>0.054200</td>\n",
       "      <td>02:16:54</td>\n",
       "      <td>6.489689</td>\n",
       "    </tr>\n",
       "    <tr>\n",
       "      <th>2684</th>\n",
       "      <td>2685.0</td>\n",
       "      <td>4162</td>\n",
       "      <td>WOJCIECH</td>\n",
       "      <td>WRÓBLEWSKI</td>\n",
       "      <td>WROCŁAW</td>\n",
       "      <td>POL</td>\n",
       "      <td>RUGBY WROCŁAW</td>\n",
       "      <td>M</td>\n",
       "      <td>2391.0</td>\n",
       "      <td>M30</td>\n",
       "      <td>826.0</td>\n",
       "      <td>1987.0</td>\n",
       "      <td>00:25:27</td>\n",
       "      <td>2574.0</td>\n",
       "      <td>5.090000</td>\n",
       "      <td>00:50:28</td>\n",
       "      <td>2462.0</td>\n",
       "      <td>5.003333</td>\n",
       "      <td>01:17:12</td>\n",
       "      <td>2542.0</td>\n",
       "      <td>5.346667</td>\n",
       "      <td>01:46:49</td>\n",
       "      <td>2665.0</td>\n",
       "      <td>5.923333</td>\n",
       "      <td>0.056867</td>\n",
       "      <td>01:52:13</td>\n",
       "      <td>5.319586</td>\n",
       "    </tr>\n",
       "    <tr>\n",
       "      <th>550</th>\n",
       "      <td>551.0</td>\n",
       "      <td>1772</td>\n",
       "      <td>BARTOSZ</td>\n",
       "      <td>HOROSIEWICZ</td>\n",
       "      <td>ŁĘKA MROCZEŃSKA</td>\n",
       "      <td>POL</td>\n",
       "      <td>KS GEPARD KĘPNO</td>\n",
       "      <td>M</td>\n",
       "      <td>517.0</td>\n",
       "      <td>M30</td>\n",
       "      <td>201.0</td>\n",
       "      <td>1986.0</td>\n",
       "      <td>00:22:35</td>\n",
       "      <td>833.0</td>\n",
       "      <td>4.516667</td>\n",
       "      <td>00:44:46</td>\n",
       "      <td>787.0</td>\n",
       "      <td>4.436667</td>\n",
       "      <td>01:06:57</td>\n",
       "      <td>660.0</td>\n",
       "      <td>4.436667</td>\n",
       "      <td>01:30:34</td>\n",
       "      <td>569.0</td>\n",
       "      <td>4.723333</td>\n",
       "      <td>0.012400</td>\n",
       "      <td>01:34:42</td>\n",
       "      <td>4.489215</td>\n",
       "    </tr>\n",
       "    <tr>\n",
       "      <th>232</th>\n",
       "      <td>233.0</td>\n",
       "      <td>3615</td>\n",
       "      <td>ANDRZEJ</td>\n",
       "      <td>NOWAK</td>\n",
       "      <td>WROCŁAW</td>\n",
       "      <td>POL</td>\n",
       "      <td>GT RAT</td>\n",
       "      <td>M</td>\n",
       "      <td>222.0</td>\n",
       "      <td>M40</td>\n",
       "      <td>85.0</td>\n",
       "      <td>1982.0</td>\n",
       "      <td>00:20:14</td>\n",
       "      <td>227.0</td>\n",
       "      <td>4.046667</td>\n",
       "      <td>00:40:29</td>\n",
       "      <td>237.0</td>\n",
       "      <td>4.050000</td>\n",
       "      <td>01:01:47</td>\n",
       "      <td>252.0</td>\n",
       "      <td>4.260000</td>\n",
       "      <td>01:24:16</td>\n",
       "      <td>238.0</td>\n",
       "      <td>4.496667</td>\n",
       "      <td>0.031200</td>\n",
       "      <td>01:28:18</td>\n",
       "      <td>4.185826</td>\n",
       "    </tr>\n",
       "  </tbody>\n",
       "</table>\n",
       "</div>"
      ],
      "text/plain": [
       "      Miejsce  Numer startowy      Imię     Nazwisko           Miasto Kraj  \\\n",
       "4686   4687.0            8002  JULIANNA        BEŚKA          WROCŁAW  POL   \n",
       "6324   6325.0            3830   MARZENA     HILASZEK          GLIWICE  POL   \n",
       "2684   2685.0            4162  WOJCIECH   WRÓBLEWSKI          WROCŁAW  POL   \n",
       "550     551.0            1772   BARTOSZ  HOROSIEWICZ  ŁĘKA MROCZEŃSKA  POL   \n",
       "232     233.0            3615   ANDRZEJ        NOWAK          WROCŁAW  POL   \n",
       "\n",
       "              Drużyna Płeć  Płeć Miejsce Kategoria wiekowa  \\\n",
       "4686              NaN    K         829.0               K20   \n",
       "6324              NaN    K        1432.0               K40   \n",
       "2684    RUGBY WROCŁAW    M        2391.0               M30   \n",
       "550   KS GEPARD KĘPNO    M         517.0               M30   \n",
       "232            GT RAT    M         222.0               M40   \n",
       "\n",
       "      Kategoria wiekowa Miejsce  Rocznik 5 km Czas  5 km Miejsce Open  \\\n",
       "4686                      170.0   2001.0  00:29:18             5629.0   \n",
       "6324                      523.0   1978.0  00:31:26             6741.0   \n",
       "2684                      826.0   1987.0  00:25:27             2574.0   \n",
       "550                       201.0   1986.0  00:22:35              833.0   \n",
       "232                        85.0   1982.0  00:20:14              227.0   \n",
       "\n",
       "      5 km Tempo 10 km Czas  10 km Miejsce Open  10 km Tempo 15 km Czas  \\\n",
       "4686    5.860000   00:58:47              5647.0     5.896667   01:27:49   \n",
       "6324    6.286667   01:02:44              6606.0     6.260000   01:35:17   \n",
       "2684    5.090000   00:50:28              2462.0     5.003333   01:17:12   \n",
       "550     4.516667   00:44:46               787.0     4.436667   01:06:57   \n",
       "232     4.046667   00:40:29               237.0     4.050000   01:01:47   \n",
       "\n",
       "      15 km Miejsce Open  15 km Tempo 20 km Czas  20 km Miejsce Open  \\\n",
       "4686              5260.0     5.806667   01:58:41              4807.0   \n",
       "6324              6519.0     6.510000   02:10:49              6368.0   \n",
       "2684              2542.0     5.346667   01:46:49              2665.0   \n",
       "550                660.0     4.436667   01:30:34               569.0   \n",
       "232                252.0     4.260000   01:24:16               238.0   \n",
       "\n",
       "      20 km Tempo  Tempo Stabilność      Czas     Tempo  \n",
       "4686     6.173333          0.017000  02:03:48  5.868689  \n",
       "6324     7.106667          0.054200  02:16:54  6.489689  \n",
       "2684     5.923333          0.056867  01:52:13  5.319586  \n",
       "550      4.723333          0.012400  01:34:42  4.489215  \n",
       "232      4.496667          0.031200  01:28:18  4.185826  "
      ]
     },
     "execution_count": 4,
     "metadata": {},
     "output_type": "execute_result"
    }
   ],
   "source": [
    "# przylukajmy pare rekordow\n",
    "bieg_2023_df.sample(5)"
   ]
  },
  {
   "cell_type": "code",
   "execution_count": 5,
   "id": "e24a3cc7-70af-45bf-8746-3e5c4fbe9570",
   "metadata": {},
   "outputs": [
    {
     "name": "stdout",
     "output_type": "stream",
     "text": [
      "Miejsce                      float64\n",
      "Numer startowy                 int64\n",
      "Imię                          object\n",
      "Nazwisko                      object\n",
      "Miasto                        object\n",
      "Kraj                          object\n",
      "Drużyna                       object\n",
      "Płeć                          object\n",
      "Płeć Miejsce                 float64\n",
      "Kategoria wiekowa             object\n",
      "Kategoria wiekowa Miejsce    float64\n",
      "Rocznik                      float64\n",
      "5 km Czas                     object\n",
      "5 km Miejsce Open            float64\n",
      "5 km Tempo                   float64\n",
      "10 km Czas                    object\n",
      "10 km Miejsce Open           float64\n",
      "10 km Tempo                  float64\n",
      "15 km Czas                    object\n",
      "15 km Miejsce Open           float64\n",
      "15 km Tempo                  float64\n",
      "20 km Czas                    object\n",
      "20 km Miejsce Open           float64\n",
      "20 km Tempo                  float64\n",
      "Tempo Stabilność             float64\n",
      "Czas                          object\n",
      "Tempo                        float64\n",
      "dtype: object\n"
     ]
    }
   ],
   "source": [
    "# obejrzmy sobie nazwy i typy wszystkich kolumn\n",
    "print(bieg_2023_df.dtypes)"
   ]
  },
  {
   "cell_type": "markdown",
   "id": "53139a9f-5e43-4f97-b12d-cdc94e0c0a45",
   "metadata": {},
   "source": [
    "#### Dużo tych kolumn, o wiele za dużo. Użytkownik, który w polu tekstowym mówi o swojej płci, wieku i prędkości, na pewno nie powie nam o numerze startowym, drużynie czy stabilności swojego tempa. Możemy więc bez żalu pozbyć się \"kilku\" kolumn."
   ]
  },
  {
   "cell_type": "code",
   "execution_count": 6,
   "id": "efaafe34-85d8-430c-b819-008c0ed2a4d6",
   "metadata": {},
   "outputs": [],
   "source": [
    "# zostawiamy w bazie do dalszej analizy tylko ponizsze kolumny\n",
    "bieg_2023_df = bieg_2023_df[['Płeć', 'Rocznik', '5 km Czas', 'Czas']]"
   ]
  },
  {
   "cell_type": "code",
   "execution_count": 7,
   "id": "532c9340-e82a-49c3-af8b-a5540c072de5",
   "metadata": {},
   "outputs": [
    {
     "data": {
      "text/html": [
       "<div>\n",
       "<style scoped>\n",
       "    .dataframe tbody tr th:only-of-type {\n",
       "        vertical-align: middle;\n",
       "    }\n",
       "\n",
       "    .dataframe tbody tr th {\n",
       "        vertical-align: top;\n",
       "    }\n",
       "\n",
       "    .dataframe thead th {\n",
       "        text-align: right;\n",
       "    }\n",
       "</style>\n",
       "<table border=\"1\" class=\"dataframe\">\n",
       "  <thead>\n",
       "    <tr style=\"text-align: right;\">\n",
       "      <th></th>\n",
       "      <th>Płeć</th>\n",
       "      <th>Rocznik</th>\n",
       "      <th>5 km Czas</th>\n",
       "      <th>Czas</th>\n",
       "    </tr>\n",
       "  </thead>\n",
       "  <tbody>\n",
       "    <tr>\n",
       "      <th>5595</th>\n",
       "      <td>M</td>\n",
       "      <td>1971.0</td>\n",
       "      <td>00:24:37</td>\n",
       "      <td>02:10:10</td>\n",
       "    </tr>\n",
       "    <tr>\n",
       "      <th>5898</th>\n",
       "      <td>K</td>\n",
       "      <td>1989.0</td>\n",
       "      <td>00:29:26</td>\n",
       "      <td>02:12:46</td>\n",
       "    </tr>\n",
       "    <tr>\n",
       "      <th>3591</th>\n",
       "      <td>M</td>\n",
       "      <td>1978.0</td>\n",
       "      <td>00:26:37</td>\n",
       "      <td>01:57:37</td>\n",
       "    </tr>\n",
       "    <tr>\n",
       "      <th>3255</th>\n",
       "      <td>M</td>\n",
       "      <td>2002.0</td>\n",
       "      <td>00:27:13</td>\n",
       "      <td>01:55:50</td>\n",
       "    </tr>\n",
       "    <tr>\n",
       "      <th>4749</th>\n",
       "      <td>M</td>\n",
       "      <td>1976.0</td>\n",
       "      <td>00:29:13</td>\n",
       "      <td>02:04:11</td>\n",
       "    </tr>\n",
       "  </tbody>\n",
       "</table>\n",
       "</div>"
      ],
      "text/plain": [
       "     Płeć  Rocznik 5 km Czas      Czas\n",
       "5595    M   1971.0  00:24:37  02:10:10\n",
       "5898    K   1989.0  00:29:26  02:12:46\n",
       "3591    M   1978.0  00:26:37  01:57:37\n",
       "3255    M   2002.0  00:27:13  01:55:50\n",
       "4749    M   1976.0  00:29:13  02:04:11"
      ]
     },
     "execution_count": 7,
     "metadata": {},
     "output_type": "execute_result"
    }
   ],
   "source": [
    "# patrzymy, czy wyglada to juz lepiej\n",
    "bieg_2023_df.sample(5)"
   ]
  },
  {
   "cell_type": "code",
   "execution_count": 8,
   "id": "48d4d96c-81d9-43d0-8285-2ac528499c96",
   "metadata": {},
   "outputs": [
    {
     "data": {
      "text/plain": [
       "Płeć           2\n",
       "Rocznik      201\n",
       "5 km Czas    827\n",
       "Czas           0\n",
       "dtype: int64"
      ]
     },
     "execution_count": 8,
     "metadata": {},
     "output_type": "execute_result"
    }
   ],
   "source": [
    "# sprawdzimy sobie ile wartosci nam brakuje\n",
    "bieg_2023_df.isnull().sum()"
   ]
  },
  {
   "cell_type": "code",
   "execution_count": 9,
   "id": "fe280017-f74a-4fec-a186-3eb03fc7e58c",
   "metadata": {},
   "outputs": [
    {
     "data": {
      "text/plain": [
       "8950"
      ]
     },
     "execution_count": 9,
     "metadata": {},
     "output_type": "execute_result"
    }
   ],
   "source": [
    "# a ile ich w ogole mamy?\n",
    "len(bieg_2023_df)"
   ]
  },
  {
   "cell_type": "code",
   "execution_count": 10,
   "id": "383ac95e-b10a-4696-8c5a-d525fa8b5e01",
   "metadata": {},
   "outputs": [
    {
     "data": {
      "text/plain": [
       "7923"
      ]
     },
     "execution_count": 10,
     "metadata": {},
     "output_type": "execute_result"
    }
   ],
   "source": [
    "# usuwamy wartosci brakujace i sprawdzamy, ile nam zostalo\n",
    "bieg_2023_clean_df = bieg_2023_df.dropna()\n",
    "len(bieg_2023_clean_df)"
   ]
  },
  {
   "cell_type": "code",
   "execution_count": 11,
   "id": "9ef2b52d-3059-4a41-b153-fff7c4b81ba5",
   "metadata": {},
   "outputs": [
    {
     "name": "stdout",
     "output_type": "stream",
     "text": [
      "9\n"
     ]
    }
   ],
   "source": [
    "# a ile mamy wartosci rownych 0, bo one tez sa nam na grzyba\n",
    "zero_count = (bieg_2023_clean_df['Rocznik'] == 0).sum()\n",
    "print(zero_count)"
   ]
  },
  {
   "cell_type": "code",
   "execution_count": 12,
   "id": "9b9b85af-abb0-462c-8254-fa108c8d61b7",
   "metadata": {},
   "outputs": [
    {
     "name": "stdout",
     "output_type": "stream",
     "text": [
      "0\n"
     ]
    }
   ],
   "source": [
    "zero_count = (bieg_2023_clean_df['5 km Czas'] == 0).sum()\n",
    "print(zero_count)"
   ]
  },
  {
   "cell_type": "code",
   "execution_count": 13,
   "id": "e2793d6a-a69b-4e19-bc7c-9bbc5ea814d4",
   "metadata": {},
   "outputs": [
    {
     "name": "stdout",
     "output_type": "stream",
     "text": [
      "0\n"
     ]
    }
   ],
   "source": [
    "zero_count = (bieg_2023_clean_df['Czas'] == 0).sum()\n",
    "print(zero_count)"
   ]
  },
  {
   "cell_type": "code",
   "execution_count": 14,
   "id": "5f17fe48-d8f3-4a52-a0e9-874bcfa79021",
   "metadata": {},
   "outputs": [],
   "source": [
    "# usuwamy zerowcow obrzydliwych\n",
    "\n",
    "bieg_2023_clean_df = bieg_2023_clean_df[bieg_2023_clean_df['Rocznik'] != 0]"
   ]
  },
  {
   "cell_type": "markdown",
   "id": "e6df87ae-0e98-439a-89e3-632cdca4a6f8",
   "metadata": {},
   "source": [
    "#### Jak widać pozostało nam ok. 90% danych, to niewielki koszt uzyskania idealnych danych, bez żadnych braków. Na pewno szkolony model nam za to podziękuje."
   ]
  },
  {
   "cell_type": "code",
   "execution_count": 15,
   "id": "d4f13fcd-a964-4265-a6f9-322152a134e2",
   "metadata": {},
   "outputs": [
    {
     "data": {
      "text/plain": [
       "Płeć         0\n",
       "Rocznik      0\n",
       "5 km Czas    0\n",
       "Czas         0\n",
       "dtype: int64"
      ]
     },
     "execution_count": 15,
     "metadata": {},
     "output_type": "execute_result"
    }
   ],
   "source": [
    "# sprawdzanie na wszelki wypadek, czy cale zlo usunieto\n",
    "bieg_2023_clean_df.isnull().sum()"
   ]
  },
  {
   "cell_type": "code",
   "execution_count": 16,
   "id": "68c237b7-64a0-4d0b-a563-9d1b8cc64c68",
   "metadata": {},
   "outputs": [],
   "source": [
    "# zmieniamy rocznik na normalny intiger\n",
    "bieg_2023_clean_df = bieg_2023_clean_df.assign(Rocznik=bieg_2023_clean_df['Rocznik'].round().astype(int))\n",
    "\n",
    "# zamieniamy kolumnę rocznik na wiek biegacza w momencie biegu\n",
    "bieg_2023_clean_df['Wiek'] = 2023 - bieg_2023_clean_df['Rocznik']\n",
    "bieg_2023_clean_df = bieg_2023_clean_df.drop(columns=['Rocznik'])\n",
    "\n",
    "# ustawiamy kolumny w milym dla oka porzadku\n",
    "bieg_2023_clean_df = bieg_2023_clean_df[['Płeć', 'Wiek', '5 km Czas', 'Czas']]"
   ]
  },
  {
   "cell_type": "code",
   "execution_count": 17,
   "id": "4659ff09-fc4c-4b96-b953-d35e987a886d",
   "metadata": {},
   "outputs": [],
   "source": [
    "# korzystamy z pomocy Andrzeja: Snippet pomocniczy - zmiana czasu na sekundy\n",
    "\n",
    "def convert_time_to_seconds(time):\n",
    "    if pd.isnull(time) or time in ['DNS', 'DNF']:\n",
    "        return None\n",
    "    time = time.split(':')\n",
    "    return int(time[0]) * 3600 + int(time[1]) * 60 + int(time[2])\n",
    "\n",
    "bieg_2023_clean_df = bieg_2023_clean_df.assign(\n",
    "    Czas=bieg_2023_clean_df['Czas'].apply(convert_time_to_seconds),\n",
    "    **{'5 km Czas': bieg_2023_clean_df['5 km Czas'].apply(convert_time_to_seconds)}\n",
    ")"
   ]
  },
  {
   "cell_type": "code",
   "execution_count": 18,
   "id": "4737b3fc-5406-43bc-b025-0d7925fdb608",
   "metadata": {},
   "outputs": [
    {
     "name": "stdout",
     "output_type": "stream",
     "text": [
      "Płeć         object\n",
      "Wiek          int64\n",
      "5 km Czas     int64\n",
      "Czas          int64\n",
      "dtype: object\n"
     ]
    }
   ],
   "source": [
    "# na wszelki wypadek sprawdzamy kolumny i ich typy\n",
    "print(bieg_2023_clean_df.dtypes)"
   ]
  },
  {
   "cell_type": "code",
   "execution_count": 19,
   "id": "af7af34c-5eed-4beb-98c1-d602fe3a7ae7",
   "metadata": {},
   "outputs": [
    {
     "data": {
      "text/html": [
       "<div>\n",
       "<style scoped>\n",
       "    .dataframe tbody tr th:only-of-type {\n",
       "        vertical-align: middle;\n",
       "    }\n",
       "\n",
       "    .dataframe tbody tr th {\n",
       "        vertical-align: top;\n",
       "    }\n",
       "\n",
       "    .dataframe thead th {\n",
       "        text-align: right;\n",
       "    }\n",
       "</style>\n",
       "<table border=\"1\" class=\"dataframe\">\n",
       "  <thead>\n",
       "    <tr style=\"text-align: right;\">\n",
       "      <th></th>\n",
       "      <th>Płeć</th>\n",
       "      <th>Wiek</th>\n",
       "      <th>5 km Czas</th>\n",
       "      <th>Czas</th>\n",
       "    </tr>\n",
       "  </thead>\n",
       "  <tbody>\n",
       "    <tr>\n",
       "      <th>7108</th>\n",
       "      <td>K</td>\n",
       "      <td>37</td>\n",
       "      <td>1927</td>\n",
       "      <td>8826</td>\n",
       "    </tr>\n",
       "    <tr>\n",
       "      <th>7923</th>\n",
       "      <td>M</td>\n",
       "      <td>51</td>\n",
       "      <td>1841</td>\n",
       "      <td>9967</td>\n",
       "    </tr>\n",
       "    <tr>\n",
       "      <th>2804</th>\n",
       "      <td>M</td>\n",
       "      <td>55</td>\n",
       "      <td>1594</td>\n",
       "      <td>6787</td>\n",
       "    </tr>\n",
       "    <tr>\n",
       "      <th>2536</th>\n",
       "      <td>M</td>\n",
       "      <td>44</td>\n",
       "      <td>1532</td>\n",
       "      <td>6676</td>\n",
       "    </tr>\n",
       "    <tr>\n",
       "      <th>7351</th>\n",
       "      <td>M</td>\n",
       "      <td>30</td>\n",
       "      <td>2054</td>\n",
       "      <td>9046</td>\n",
       "    </tr>\n",
       "  </tbody>\n",
       "</table>\n",
       "</div>"
      ],
      "text/plain": [
       "     Płeć  Wiek  5 km Czas  Czas\n",
       "7108    K    37       1927  8826\n",
       "7923    M    51       1841  9967\n",
       "2804    M    55       1594  6787\n",
       "2536    M    44       1532  6676\n",
       "7351    M    30       2054  9046"
      ]
     },
     "execution_count": 19,
     "metadata": {},
     "output_type": "execute_result"
    }
   ],
   "source": [
    "# patrzymy, jak ostatecznie wyglada nasza baza\n",
    "bieg_2023_clean_df.sample(5)"
   ]
  },
  {
   "cell_type": "markdown",
   "id": "fb1be813-78de-4906-9cce-b6bf1b0759b7",
   "metadata": {},
   "source": [
    "#### Porównamy sobie teraz panie i panów"
   ]
  },
  {
   "cell_type": "code",
   "execution_count": 20,
   "id": "84e36e04-865f-45d8-aab5-e7e25a8de1e1",
   "metadata": {},
   "outputs": [
    {
     "data": {
      "text/plain": [
       "<Figure size 1000x1000 with 0 Axes>"
      ]
     },
     "metadata": {},
     "output_type": "display_data"
    },
    {
     "data": {
      "image/png": "[encoded data removed]",
      "text/plain": [
       "<Figure size 800x550 with 1 Axes>"
      ]
     },
     "metadata": {},
     "output_type": "display_data"
    }
   ],
   "source": [
    "# Rysowanie boxplotów\n",
    "plt.figure(figsize=(10, 10))  # Ustawia rozmiar wykresu\n",
    "bieg_2023_clean_df.boxplot(column='Czas', by='Płeć', grid=False)\n",
    "\n",
    "plt.title('Porównanie czasu biegu półmaratonu 2003 według płci')  # Tytuł wykresu\n",
    "plt.suptitle('')  # Usuwa domyślny tytuł, który może być zbędny\n",
    "plt.xlabel('Płeć')  # Etykieta osi X\n",
    "plt.ylabel('Czas biegu w sekundach')  # Etykieta osi Y\n",
    "\n",
    "# Wyświetlenie wykresu\n",
    "plt.show()"
   ]
  },
  {
   "cell_type": "markdown",
   "id": "ee7ab109-86e3-468a-9ad1-c40af9834b70",
   "metadata": {},
   "source": [
    "#### Jest widoczna różnica. A jak to wygląda ze względu na wiek?"
   ]
  },
  {
   "cell_type": "code",
   "execution_count": 21,
   "id": "59a94305-f904-4339-a2c6-f9f9ad879a5b",
   "metadata": {},
   "outputs": [
    {
     "data": {
      "image/png": "[encoded data removed]",
      "text/plain": [
       "<Figure size 1200x600 with 2 Axes>"
      ]
     },
     "metadata": {},
     "output_type": "display_data"
    }
   ],
   "source": [
    "# Ustawienie wykresów\n",
    "plt.figure(figsize=(12, 6))\n",
    "\n",
    "# Wykres dla mężczyzn\n",
    "plt.subplot(1, 2, 1)  # 1 row, 2 cols, subplot 1\n",
    "men = bieg_2023_clean_df[bieg_2023_clean_df['Płeć'] == 'M']\n",
    "plt.scatter(men['Wiek'], men['Czas'], color='blue')\n",
    "plt.title('Czas ukończenia biegu dla mężczyzn')\n",
    "plt.xlabel('Wiek')\n",
    "plt.ylabel('Czas')\n",
    "plt.grid()\n",
    "\n",
    "# Wykres dla kobiet\n",
    "plt.subplot(1, 2, 2)  # 1 row, 2 cols, subplot 2\n",
    "women = bieg_2023_clean_df[bieg_2023_clean_df['Płeć'] == 'K']\n",
    "plt.scatter(women['Wiek'], women['Czas'], color='red')\n",
    "plt.title('Czas ukończenia biegu dla kobiet')\n",
    "plt.xlabel('Wiek')\n",
    "plt.ylabel('Czas')\n",
    "plt.grid()\n",
    "\n",
    "# Pokazanie wykresów\n",
    "plt.tight_layout()  # Dostosowanie wykresów\n",
    "plt.show()"
   ]
  },
  {
   "cell_type": "markdown",
   "id": "4e78c5d4-a060-4356-a7ca-52c89590864f",
   "metadata": {},
   "source": [
    "#### No dobrze, widać że jak ktoś sprawnie przebiera nogami, to szybko jest na mecie. Wiek nie ma tu nic do gadania."
   ]
  },
  {
   "cell_type": "markdown",
   "id": "ec27a40a-4957-4332-966f-5d2718efa2c3",
   "metadata": {},
   "source": [
    "### Teraz zrobimy wszystko to samo dla roku 2024:"
   ]
  },
  {
   "cell_type": "code",
   "execution_count": 22,
   "id": "d02b77fa-b4e0-40bc-a7a3-1d2aa9d24edf",
   "metadata": {},
   "outputs": [],
   "source": [
    "# wczytujemy druga baze\n",
    "bieg_2024_df = pd.read_csv('halfmarathon_wroclaw_2024__final.csv', sep=';')"
   ]
  },
  {
   "cell_type": "code",
   "execution_count": 23,
   "id": "dad4b3a3-d2d0-4bcb-834b-c62e8b17048b",
   "metadata": {},
   "outputs": [
    {
     "data": {
      "text/html": [
       "<div>\n",
       "<style scoped>\n",
       "    .dataframe tbody tr th:only-of-type {\n",
       "        vertical-align: middle;\n",
       "    }\n",
       "\n",
       "    .dataframe tbody tr th {\n",
       "        vertical-align: top;\n",
       "    }\n",
       "\n",
       "    .dataframe thead th {\n",
       "        text-align: right;\n",
       "    }\n",
       "</style>\n",
       "<table border=\"1\" class=\"dataframe\">\n",
       "  <thead>\n",
       "    <tr style=\"text-align: right;\">\n",
       "      <th></th>\n",
       "      <th>Miejsce</th>\n",
       "      <th>Numer startowy</th>\n",
       "      <th>Imię</th>\n",
       "      <th>Nazwisko</th>\n",
       "      <th>Miasto</th>\n",
       "      <th>Kraj</th>\n",
       "      <th>Drużyna</th>\n",
       "      <th>Płeć</th>\n",
       "      <th>Płeć Miejsce</th>\n",
       "      <th>Kategoria wiekowa</th>\n",
       "      <th>Kategoria wiekowa Miejsce</th>\n",
       "      <th>Rocznik</th>\n",
       "      <th>5 km Czas</th>\n",
       "      <th>5 km Miejsce Open</th>\n",
       "      <th>5 km Tempo</th>\n",
       "      <th>10 km Czas</th>\n",
       "      <th>10 km Miejsce Open</th>\n",
       "      <th>10 km Tempo</th>\n",
       "      <th>15 km Czas</th>\n",
       "      <th>15 km Miejsce Open</th>\n",
       "      <th>15 km Tempo</th>\n",
       "      <th>20 km Czas</th>\n",
       "      <th>20 km Miejsce Open</th>\n",
       "      <th>20 km Tempo</th>\n",
       "      <th>Tempo Stabilność</th>\n",
       "      <th>Czas</th>\n",
       "      <th>Tempo</th>\n",
       "    </tr>\n",
       "  </thead>\n",
       "  <tbody>\n",
       "    <tr>\n",
       "      <th>1274</th>\n",
       "      <td>1275.0</td>\n",
       "      <td>463</td>\n",
       "      <td>ADAM</td>\n",
       "      <td>MRUK</td>\n",
       "      <td>WROCŁAW</td>\n",
       "      <td>POL</td>\n",
       "      <td>NaN</td>\n",
       "      <td>M</td>\n",
       "      <td>1190.0</td>\n",
       "      <td>M20</td>\n",
       "      <td>205.0</td>\n",
       "      <td>1996.0</td>\n",
       "      <td>00:24:17</td>\n",
       "      <td>1712.0</td>\n",
       "      <td>4.856667</td>\n",
       "      <td>00:48:15</td>\n",
       "      <td>1756.0</td>\n",
       "      <td>4.793333</td>\n",
       "      <td>01:12:24</td>\n",
       "      <td>1538.0</td>\n",
       "      <td>4.830000</td>\n",
       "      <td>01:36:50</td>\n",
       "      <td>1355.0</td>\n",
       "      <td>4.886667</td>\n",
       "      <td>0.002533</td>\n",
       "      <td>01:41:45</td>\n",
       "      <td>4.823418</td>\n",
       "    </tr>\n",
       "    <tr>\n",
       "      <th>970</th>\n",
       "      <td>971.0</td>\n",
       "      <td>3864</td>\n",
       "      <td>BARTOSZ</td>\n",
       "      <td>PUDŁOWSKI</td>\n",
       "      <td>WROCŁAW</td>\n",
       "      <td>POL</td>\n",
       "      <td>T3TEAM</td>\n",
       "      <td>M</td>\n",
       "      <td>919.0</td>\n",
       "      <td>M50</td>\n",
       "      <td>70.0</td>\n",
       "      <td>1974.0</td>\n",
       "      <td>00:23:14</td>\n",
       "      <td>1081.0</td>\n",
       "      <td>4.646667</td>\n",
       "      <td>00:45:58</td>\n",
       "      <td>1069.0</td>\n",
       "      <td>4.546667</td>\n",
       "      <td>01:09:38</td>\n",
       "      <td>1026.0</td>\n",
       "      <td>4.733333</td>\n",
       "      <td>01:33:59</td>\n",
       "      <td>987.0</td>\n",
       "      <td>4.870000</td>\n",
       "      <td>0.017133</td>\n",
       "      <td>01:39:19</td>\n",
       "      <td>4.708067</td>\n",
       "    </tr>\n",
       "    <tr>\n",
       "      <th>10334</th>\n",
       "      <td>NaN</td>\n",
       "      <td>501</td>\n",
       "      <td>DIMITRIS</td>\n",
       "      <td>ATTILAKOS</td>\n",
       "      <td>NaN</td>\n",
       "      <td>NaN</td>\n",
       "      <td>Attilakos Running Team</td>\n",
       "      <td>M</td>\n",
       "      <td>NaN</td>\n",
       "      <td>M50</td>\n",
       "      <td>NaN</td>\n",
       "      <td>1971.0</td>\n",
       "      <td>NaN</td>\n",
       "      <td>NaN</td>\n",
       "      <td>NaN</td>\n",
       "      <td>NaN</td>\n",
       "      <td>NaN</td>\n",
       "      <td>NaN</td>\n",
       "      <td>NaN</td>\n",
       "      <td>NaN</td>\n",
       "      <td>NaN</td>\n",
       "      <td>NaN</td>\n",
       "      <td>NaN</td>\n",
       "      <td>NaN</td>\n",
       "      <td>NaN</td>\n",
       "      <td>DNS</td>\n",
       "      <td>NaN</td>\n",
       "    </tr>\n",
       "    <tr>\n",
       "      <th>11830</th>\n",
       "      <td>NaN</td>\n",
       "      <td>23517</td>\n",
       "      <td>JAKUB</td>\n",
       "      <td>NIEWIŃSKI</td>\n",
       "      <td>NaN</td>\n",
       "      <td>NaN</td>\n",
       "      <td>NaN</td>\n",
       "      <td>M</td>\n",
       "      <td>NaN</td>\n",
       "      <td>M40</td>\n",
       "      <td>NaN</td>\n",
       "      <td>1982.0</td>\n",
       "      <td>NaN</td>\n",
       "      <td>NaN</td>\n",
       "      <td>NaN</td>\n",
       "      <td>NaN</td>\n",
       "      <td>NaN</td>\n",
       "      <td>NaN</td>\n",
       "      <td>NaN</td>\n",
       "      <td>NaN</td>\n",
       "      <td>NaN</td>\n",
       "      <td>NaN</td>\n",
       "      <td>NaN</td>\n",
       "      <td>NaN</td>\n",
       "      <td>NaN</td>\n",
       "      <td>NaN</td>\n",
       "      <td>NaN</td>\n",
       "    </tr>\n",
       "    <tr>\n",
       "      <th>7194</th>\n",
       "      <td>7195.0</td>\n",
       "      <td>4552</td>\n",
       "      <td>PIOTR</td>\n",
       "      <td>BUSZKIEWICZ</td>\n",
       "      <td>POZNAŃ</td>\n",
       "      <td>POL</td>\n",
       "      <td>EUROCASH</td>\n",
       "      <td>M</td>\n",
       "      <td>5645.0</td>\n",
       "      <td>M40</td>\n",
       "      <td>1890.0</td>\n",
       "      <td>1981.0</td>\n",
       "      <td>00:30:39</td>\n",
       "      <td>7490.0</td>\n",
       "      <td>6.130000</td>\n",
       "      <td>01:01:10</td>\n",
       "      <td>7558.0</td>\n",
       "      <td>6.103333</td>\n",
       "      <td>01:33:10</td>\n",
       "      <td>7467.0</td>\n",
       "      <td>6.400000</td>\n",
       "      <td>02:05:53</td>\n",
       "      <td>7247.0</td>\n",
       "      <td>6.543333</td>\n",
       "      <td>0.030733</td>\n",
       "      <td>02:13:09</td>\n",
       "      <td>6.311922</td>\n",
       "    </tr>\n",
       "  </tbody>\n",
       "</table>\n",
       "</div>"
      ],
      "text/plain": [
       "       Miejsce  Numer startowy      Imię     Nazwisko   Miasto Kraj  \\\n",
       "1274    1275.0             463      ADAM         MRUK  WROCŁAW  POL   \n",
       "970      971.0            3864   BARTOSZ    PUDŁOWSKI  WROCŁAW  POL   \n",
       "10334      NaN             501  DIMITRIS    ATTILAKOS      NaN  NaN   \n",
       "11830      NaN           23517     JAKUB    NIEWIŃSKI      NaN  NaN   \n",
       "7194    7195.0            4552     PIOTR  BUSZKIEWICZ   POZNAŃ  POL   \n",
       "\n",
       "                      Drużyna Płeć  Płeć Miejsce Kategoria wiekowa  \\\n",
       "1274                      NaN    M        1190.0               M20   \n",
       "970                    T3TEAM    M         919.0               M50   \n",
       "10334  Attilakos Running Team    M           NaN               M50   \n",
       "11830                     NaN    M           NaN               M40   \n",
       "7194                 EUROCASH    M        5645.0               M40   \n",
       "\n",
       "       Kategoria wiekowa Miejsce  Rocznik 5 km Czas  5 km Miejsce Open  \\\n",
       "1274                       205.0   1996.0  00:24:17             1712.0   \n",
       "970                         70.0   1974.0  00:23:14             1081.0   \n",
       "10334                        NaN   1971.0       NaN                NaN   \n",
       "11830                        NaN   1982.0       NaN                NaN   \n",
       "7194                      1890.0   1981.0  00:30:39             7490.0   \n",
       "\n",
       "       5 km Tempo 10 km Czas  10 km Miejsce Open  10 km Tempo 15 km Czas  \\\n",
       "1274     4.856667   00:48:15              1756.0     4.793333   01:12:24   \n",
       "970      4.646667   00:45:58              1069.0     4.546667   01:09:38   \n",
       "10334         NaN        NaN                 NaN          NaN        NaN   \n",
       "11830         NaN        NaN                 NaN          NaN        NaN   \n",
       "7194     6.130000   01:01:10              7558.0     6.103333   01:33:10   \n",
       "\n",
       "       15 km Miejsce Open  15 km Tempo 20 km Czas  20 km Miejsce Open  \\\n",
       "1274               1538.0     4.830000   01:36:50              1355.0   \n",
       "970                1026.0     4.733333   01:33:59               987.0   \n",
       "10334                 NaN          NaN        NaN                 NaN   \n",
       "11830                 NaN          NaN        NaN                 NaN   \n",
       "7194               7467.0     6.400000   02:05:53              7247.0   \n",
       "\n",
       "       20 km Tempo  Tempo Stabilność      Czas     Tempo  \n",
       "1274      4.886667          0.002533  01:41:45  4.823418  \n",
       "970       4.870000          0.017133  01:39:19  4.708067  \n",
       "10334          NaN               NaN       DNS       NaN  \n",
       "11830          NaN               NaN       NaN       NaN  \n",
       "7194      6.543333          0.030733  02:13:09  6.311922  "
      ]
     },
     "execution_count": 23,
     "metadata": {},
     "output_type": "execute_result"
    }
   ],
   "source": [
    "# na wszelki wypadek luknijmy na rekordy\n",
    "bieg_2024_df.sample(5)"
   ]
  },
  {
   "cell_type": "code",
   "execution_count": 24,
   "id": "822e9a72-ddfc-43c7-b880-c48b71f0e438",
   "metadata": {},
   "outputs": [
    {
     "data": {
      "text/plain": [
       "Miejsce                      2707\n",
       "Numer startowy                  0\n",
       "Imię                            0\n",
       "Nazwisko                        0\n",
       "Miasto                       3094\n",
       "Kraj                         2707\n",
       "Drużyna                      8026\n",
       "Płeć                            9\n",
       "Płeć Miejsce                 2707\n",
       "Kategoria wiekowa              20\n",
       "Kategoria wiekowa Miejsce    2718\n",
       "Rocznik                       284\n",
       "5 km Czas                    2719\n",
       "5 km Miejsce Open            2719\n",
       "5 km Tempo                   2719\n",
       "10 km Czas                   2719\n",
       "10 km Miejsce Open           2719\n",
       "10 km Tempo                  2728\n",
       "15 km Czas                   2720\n",
       "15 km Miejsce Open           2720\n",
       "15 km Tempo                  2730\n",
       "20 km Czas                   2712\n",
       "20 km Miejsce Open           2712\n",
       "20 km Tempo                  2722\n",
       "Tempo Stabilność             2740\n",
       "Czas                         2055\n",
       "Tempo                        2707\n",
       "dtype: int64"
      ]
     },
     "execution_count": 24,
     "metadata": {},
     "output_type": "execute_result"
    }
   ],
   "source": [
    "# sprawdzimy sobie ile wartosci nam brakuje\n",
    "bieg_2024_df.isnull().sum()"
   ]
  },
  {
   "cell_type": "markdown",
   "id": "81b78404-3d8e-4250-abf5-8805414f41c1",
   "metadata": {},
   "source": [
    "#### Niedobrze :-( Brakuje nam prawie 1/4 wszystkich wartości. Ale nic nie możemy na to poradzić. Wiersze bez czasu biegu są nam nieprzydatne."
   ]
  },
  {
   "cell_type": "code",
   "execution_count": 25,
   "id": "ae404725-5a54-4d42-b427-dd171ea76557",
   "metadata": {},
   "outputs": [
    {
     "data": {
      "text/plain": [
       "13007"
      ]
     },
     "execution_count": 25,
     "metadata": {},
     "output_type": "execute_result"
    }
   ],
   "source": [
    "len(bieg_2024_df)"
   ]
  },
  {
   "cell_type": "code",
   "execution_count": 26,
   "id": "08537ed1-119f-445c-b8e6-6084459483c4",
   "metadata": {},
   "outputs": [],
   "source": [
    "# zostawiamy w bazie do dalszej analizy tylko ponizsze kolumny\n",
    "bieg_2024_df = bieg_2024_df[['Płeć', 'Rocznik', '5 km Czas', 'Czas']]"
   ]
  },
  {
   "cell_type": "code",
   "execution_count": 27,
   "id": "ed0a19b0-2ab8-4581-a887-27d38599d7d9",
   "metadata": {},
   "outputs": [
    {
     "data": {
      "text/plain": [
       "10004"
      ]
     },
     "execution_count": 27,
     "metadata": {},
     "output_type": "execute_result"
    }
   ],
   "source": [
    "# usuwamy wartosci brakujace i sprawdzamy, ile nam zostalo\n",
    "bieg_2024_clean_df = bieg_2024_df.dropna()\n",
    "len(bieg_2024_clean_df)"
   ]
  },
  {
   "cell_type": "code",
   "execution_count": 28,
   "id": "04bceea2-562a-48e9-b371-53d8bb574c22",
   "metadata": {},
   "outputs": [
    {
     "name": "stdout",
     "output_type": "stream",
     "text": [
      "9\n"
     ]
    }
   ],
   "source": [
    "# Sprawdzamy ile mamy wartosci rownych 0\n",
    "zero_count = (bieg_2024_clean_df['Rocznik'] == 0).sum()\n",
    "print(zero_count)"
   ]
  },
  {
   "cell_type": "code",
   "execution_count": 29,
   "id": "205fe581-a151-4be2-b430-8b3667304c30",
   "metadata": {},
   "outputs": [
    {
     "name": "stdout",
     "output_type": "stream",
     "text": [
      "0\n"
     ]
    }
   ],
   "source": [
    "zero_count = (bieg_2024_clean_df['5 km Czas'] == 0).sum()\n",
    "print(zero_count)"
   ]
  },
  {
   "cell_type": "code",
   "execution_count": 30,
   "id": "ed66f225-3b96-46c0-88a7-64963eff0806",
   "metadata": {},
   "outputs": [
    {
     "name": "stdout",
     "output_type": "stream",
     "text": [
      "0\n"
     ]
    }
   ],
   "source": [
    "zero_count = (bieg_2024_clean_df['Czas'] == 0).sum()\n",
    "print(zero_count)"
   ]
  },
  {
   "cell_type": "code",
   "execution_count": 31,
   "id": "6fa0d5a7-0ab7-4907-8595-498a058c687f",
   "metadata": {},
   "outputs": [],
   "source": [
    "# usuwamy zerowcow\n",
    "bieg_2024_clean_df = bieg_2024_clean_df[bieg_2024_clean_df['Rocznik'] != 0]"
   ]
  },
  {
   "cell_type": "code",
   "execution_count": 32,
   "id": "eab1759d-c8d8-4819-abc2-06f95b0213fc",
   "metadata": {},
   "outputs": [],
   "source": [
    "# zmieniamy rocznik na normalny intiger\n",
    "bieg_2024_clean_df = bieg_2024_clean_df.assign(Rocznik=bieg_2024_clean_df['Rocznik'].round().astype(int))\n",
    "\n",
    "# zamieniamy kolumnę rocznik na wiek biegacza w momencie biegu\n",
    "bieg_2024_clean_df['Wiek'] = 2024 - bieg_2024_clean_df['Rocznik']\n",
    "bieg_2024_clean_df = bieg_2024_clean_df.drop(columns=['Rocznik'])\n",
    "\n",
    "# ustawiamy kolumny w milym dla oka porzadku\n",
    "bieg_2024_clean_df = bieg_2024_clean_df[['Płeć', 'Wiek', '5 km Czas', 'Czas']]"
   ]
  },
  {
   "cell_type": "code",
   "execution_count": 33,
   "id": "441e12ec-d2f9-4dfd-875f-a249fc724991",
   "metadata": {},
   "outputs": [],
   "source": [
    "# korzystamy z pomocy Andrzeja: Snippet pomocniczy - zmiana czasu na sekundy\n",
    "\n",
    "def convert_time_to_seconds(time):\n",
    "    if pd.isnull(time) or time in ['DNS', 'DNF']:\n",
    "        return None\n",
    "    time = time.split(':')\n",
    "    return int(time[0]) * 3600 + int(time[1]) * 60 + int(time[2])\n",
    "\n",
    "bieg_2024_clean_df = bieg_2024_clean_df.assign(\n",
    "    Czas=bieg_2024_clean_df['Czas'].apply(convert_time_to_seconds),\n",
    "    **{'5 km Czas': bieg_2024_clean_df['5 km Czas'].apply(convert_time_to_seconds)}\n",
    ")"
   ]
  },
  {
   "cell_type": "markdown",
   "id": "2430f2f2-69da-4356-8836-6880cd690c3a",
   "metadata": {},
   "source": [
    "#### Sprawdzamy różnice ze zwględu na płeć"
   ]
  },
  {
   "cell_type": "code",
   "execution_count": 34,
   "id": "3d6af0b9-128e-478a-85c4-78bbcf29dd7b",
   "metadata": {},
   "outputs": [
    {
     "data": {
      "text/plain": [
       "<Figure size 1000x1000 with 0 Axes>"
      ]
     },
     "metadata": {},
     "output_type": "display_data"
    },
    {
     "data": {
      "image/png": "[encoded data removed]",
      "text/plain": [
       "<Figure size 800x550 with 1 Axes>"
      ]
     },
     "metadata": {},
     "output_type": "display_data"
    }
   ],
   "source": [
    "# Rysowanie boxplotów\n",
    "plt.figure(figsize=(10, 10))  # Ustawia rozmiar wykresu\n",
    "bieg_2024_clean_df.boxplot(column='Czas', by='Płeć', grid=False)\n",
    "\n",
    "plt.title('Porównanie czasu biegu półmaratonu 2004 według płci')  # Tytuł wykresu\n",
    "plt.suptitle('')  # Usuwa domyślny tytuł, który może być zbędny\n",
    "plt.xlabel('Płeć')  # Etykieta osi X\n",
    "plt.ylabel('Czas biegu w sekundach')  # Etykieta osi Y\n",
    "\n",
    "# Wyświetlenie wykresu\n",
    "plt.show()"
   ]
  },
  {
   "cell_type": "markdown",
   "id": "63384f29-3041-427a-a42f-07f4f15798cc",
   "metadata": {},
   "source": [
    "#### Tak, różnice nadal są widoczne. Na wszelki wypadek, sprawdzamy ze względu na wiek, bo a nuż coś się zmieniło?"
   ]
  },
  {
   "cell_type": "code",
   "execution_count": 35,
   "id": "a6946dd9-1066-4241-b5fa-e97efdc3a6c0",
   "metadata": {},
   "outputs": [
    {
     "data": {
      "image/png": "[encoded data removed]",
      "text/plain": [
       "<Figure size 1200x600 with 2 Axes>"
      ]
     },
     "metadata": {},
     "output_type": "display_data"
    }
   ],
   "source": [
    "# Ustawienie wykresów\n",
    "plt.figure(figsize=(12, 6))\n",
    "\n",
    "# Wykres dla mężczyzn\n",
    "plt.subplot(1, 2, 1)  # 1 row, 2 cols, subplot 1\n",
    "men = bieg_2024_clean_df[bieg_2024_clean_df['Płeć'] == 'M']\n",
    "plt.scatter(men['Wiek'], men['Czas'], color='blue')\n",
    "plt.title('Czas ukończenia biegu dla mężczyzn')\n",
    "plt.xlabel('Wiek')\n",
    "plt.ylabel('Czas')\n",
    "plt.grid()\n",
    "\n",
    "# Wykres dla kobiet\n",
    "plt.subplot(1, 2, 2)  # 1 row, 2 cols, subplot 2\n",
    "women = bieg_2024_clean_df[bieg_2024_clean_df['Płeć'] == 'K']\n",
    "plt.scatter(women['Wiek'], women['Czas'], color='red')\n",
    "plt.title('Czas ukończenia biegu dla kobiet')\n",
    "plt.xlabel('Wiek')\n",
    "plt.ylabel('Czas')\n",
    "plt.grid()\n",
    "\n",
    "# Pokazanie wykresów\n",
    "plt.tight_layout()  # Dostosowanie wykresów\n",
    "plt.show()"
   ]
  },
  {
   "cell_type": "markdown",
   "id": "dc7d200c-82e0-4880-a7a8-e5c711ffdf02",
   "metadata": {},
   "source": [
    "#### Taka sama kaszana."
   ]
  },
  {
   "cell_type": "markdown",
   "id": "d465ee5b-7cf0-4570-b3f2-ac8dba3c2bdd",
   "metadata": {},
   "source": [
    "## Przechodzimy więc do umieszczenia danych w Digital Ocean."
   ]
  },
  {
   "cell_type": "code",
   "execution_count": 36,
   "id": "915e1163-06dc-4e2c-88c6-ba973041dc23",
   "metadata": {},
   "outputs": [
    {
     "name": "stdout",
     "output_type": "stream",
     "text": [
      "Wszystko OK. Połączenie z bazą danych w Digital Ocean zostało nawiązane poprawnie i działa\n"
     ]
    }
   ],
   "source": [
    "# ladujemy klucze\n",
    "load_dotenv()\n",
    "BUCKET_NAME='halfmarathon-space'\n",
    "\n",
    "# nawiazujemy kontakt z naszym wiadrem w Digital Ocean\n",
    "s3 = boto3.client(\n",
    "    \"s3\",\n",
    "    aws_access_key_id=os.getenv(\"AWS_ACCESS_KEY_ID\"),\n",
    "    aws_secret_access_key=os.getenv(\"AWS_SECRET_ACCESS_KEY\"),\n",
    "    # Endpoint jest potrzebny dlatego że używamy chmury innej niż AWS \n",
    "    endpoint_url=os.getenv(\"AWS_ENDPOINT_URL_S3\"), \n",
    "    # Gdybyśmy używali AWS to musielibyśmy natomiast podać region\n",
    "    #region_name='eu-central-1'\n",
    ")\n",
    "\n",
    "try:\n",
    "    s3.head_bucket(Bucket=BUCKET_NAME)\n",
    "    print('Wszystko OK. Połączenie z bazą danych w Digital Ocean zostało nawiązane poprawnie i działa')\n",
    "except Exception as e:\n",
    "    print(f\"Błąd połączenia z bazą danych w Digital Ocean z powodu: {str(e)}\")"
   ]
  },
  {
   "cell_type": "markdown",
   "id": "cf0eff47-2e75-4105-a77f-1c0d32ad6530",
   "metadata": {},
   "source": [
    "## Kod jest tak napisany, żeby w przyszłości można było działać na większej ilości plików z kolejnych lat (gdyby ktoś miał taką fantazję)."
   ]
  },
  {
   "cell_type": "code",
   "execution_count": 37,
   "id": "ab23b2f0-8320-4fad-b3f3-f0bfd88f6b04",
   "metadata": {},
   "outputs": [
    {
     "name": "stdout",
     "output_type": "stream",
     "text": [
      "Wysyłam plik /home/rafal/Projekty/od_zera_do_ai/modul_9/homework/halfmarathon_wroclaw_2024__final.csv do halfmarathon_wroclaw_2024__final.csv\n",
      "Wysyłam plik /home/rafal/Projekty/od_zera_do_ai/modul_9/homework/halfmarathon_wroclaw_2023__final.csv do halfmarathon_wroclaw_2023__final.csv\n"
     ]
    }
   ],
   "source": [
    "# wyszukiwanie plików zaczynających się od 'halfmarathon_'\n",
    "current_directory = os.getcwd()\n",
    "files_to_upload = [f for f in os.listdir(current_directory) if f.startswith(\"halfmarathon_\")]\n",
    "\n",
    "# wysylamy teraz pliki z danymi z polmaratonow do naszego Cloud Storage w Digital Ocean\n",
    "for file_name in files_to_upload:\n",
    "    file_path = os.path.join(current_directory, file_name)\n",
    "    s3_path = file_name.replace(\"\\\\\", \"/\")\n",
    "    print(f\"Wysyłam plik {file_path} do {s3_path}\")\n",
    "    s3.upload_file(\n",
    "        Filename=file_path,\n",
    "        Bucket=BUCKET_NAME,\n",
    "        Key=s3_path\n",
    "    )"
   ]
  },
  {
   "cell_type": "code",
   "execution_count": 38,
   "id": "702167e1-f564-49eb-bc8a-b18a7516ecda",
   "metadata": {},
   "outputs": [
    {
     "name": "stdout",
     "output_type": "stream",
     "text": [
      "Pliki w bucket halfmarathon-space:\n",
      "halfmarathon_wroclaw_2023__final.csv\n",
      "halfmarathon_wroclaw_2024__final.csv\n"
     ]
    }
   ],
   "source": [
    "# sprawdzamy, czy sie udalo i mamy tam pliki na Digital Ocean\n",
    "response = s3.list_objects_v2(Bucket=BUCKET_NAME)\n",
    "\n",
    "if \"Contents\" in response:\n",
    "    print(f\"Pliki w bucket {BUCKET_NAME}:\")\n",
    "    for obj in response.get(\"Contents\", []):\n",
    "        print(obj[\"Key\"])\n",
    "else:\n",
    "    print(f\"Brak plików w bucket {BUCKET_NAME}.\")"
   ]
  },
  {
   "cell_type": "markdown",
   "id": "43342bd9-5267-4719-9b91-2a5b656c58f1",
   "metadata": {},
   "source": [
    "## Zczytujemy dane z Digital Ocean."
   ]
  },
  {
   "cell_type": "code",
   "execution_count": 39,
   "id": "9b44e778-5ac4-4d01-aa96-236a9ad580b3",
   "metadata": {},
   "outputs": [
    {
     "name": "stdout",
     "output_type": "stream",
     "text": [
      "Wczytano plik z bucketu: halfmarathon-space o nazwie: halfmarathon_wroclaw_2023__final.csv. Utworzono DataFrame: bieg_2023_df.\n",
      "Wczytano plik z bucketu: halfmarathon-space o nazwie: halfmarathon_wroclaw_2024__final.csv. Utworzono DataFrame: bieg_2024_df.\n"
     ]
    }
   ],
   "source": [
    "# wczytujemy nasze pliki z Digital Ocean w locie, bez zapisywania ich na dysk\n",
    "response = s3.list_objects_v2(Bucket=BUCKET_NAME)\n",
    "\n",
    "## Sprawdzamy, czy są jakieś pliki\n",
    "if \"Contents\" in response and len(response[\"Contents\"]) > 0:\n",
    "    for i, obj in enumerate(response[\"Contents\"]):\n",
    "        file_key = obj[\"Key\"]\n",
    "        \n",
    "        # Używamy BytesIO do pobrania pliku w locie\n",
    "        obj_data = s3.get_object(Bucket=BUCKET_NAME, Key=file_key)\n",
    "        data = obj_data['Body'].read()  # Pobieramy dane pliku\n",
    "        \n",
    "        # Wczytanie danych do DataFrame z użyciem separatora ';'\n",
    "        df = pd.read_csv(BytesIO(data), sep=';')\n",
    "\n",
    "        # Nazwa DataFrame na podstawie roku\n",
    "        year = 2023 + i\n",
    "        globals()[f'bieg_{year}_df'] = df\n",
    "        \n",
    "        print(f\"Wczytano plik z bucketu: {BUCKET_NAME} o nazwie: {file_key}. Utworzono DataFrame: bieg_{year}_df.\")\n",
    "else:\n",
    "    print(f\"Brak dostępnych plików w buckecie {BUCKET_NAME}.\")"
   ]
  },
  {
   "cell_type": "markdown",
   "id": "77edd80c-dba1-4fad-bc6a-0b3f882688b6",
   "metadata": {},
   "source": [
    "## Czyścimy dane \"w locie\""
   ]
  },
  {
   "cell_type": "code",
   "execution_count": 40,
   "id": "2f723080-3c4a-4be3-98f0-b6cc3acb264a",
   "metadata": {},
   "outputs": [],
   "source": [
    "# definiujemy proces czyszczenia danych\n",
    "def process_race_data(df, year):\n",
    "    # Filtrujemy kolumny\n",
    "    df = df[['Płeć', 'Rocznik', '5 km Czas', 'Czas']]\n",
    "    \n",
    "    # Usuwamy wiersze z NaN i wartości 0 w kolumnie 'Rocznik'\n",
    "    df = df.dropna().loc[df['Rocznik'] != 0]\n",
    "\n",
    "    # Zmieniamy 'Rocznik' na typ integer\n",
    "    df['Rocznik'] = df['Rocznik'].round().astype(int)\n",
    "    \n",
    "    # Tworzymy kolumnę 'Wiek'\n",
    "    df['Wiek'] = year - df['Rocznik']\n",
    "    \n",
    "    # Usuwamy kolumnę 'Rocznik'\n",
    "    df = df.drop(columns=['Rocznik'])\n",
    "    \n",
    "    # Ustawiamy kolumny w czytelnej kolejności\n",
    "    df = df[['Płeć', 'Wiek', '5 km Czas', 'Czas']]\n",
    "    \n",
    "    # Konwertujemy czas na sekundy\n",
    "    df['Czas'] = df['Czas'].apply(convert_time_to_seconds)\n",
    "    df['5 km Czas'] = df['5 km Czas'].apply(convert_time_to_seconds)\n",
    "    \n",
    "    return df"
   ]
  },
  {
   "cell_type": "code",
   "execution_count": 41,
   "id": "114a18b4-64e7-4490-b090-e78c45877126",
   "metadata": {},
   "outputs": [
    {
     "name": "stdout",
     "output_type": "stream",
     "text": [
      "Brak DataFrame'u bieg_2025_df. Zakończono przetwarzanie.\n"
     ]
    }
   ],
   "source": [
    "year = 2023  # Rozpoczynamy od roku 2023\n",
    "\n",
    "while True:  # Kontynuuj dopóki są dostępne DataFrame'y\n",
    "    df_name = f'bieg_{year}_df'\n",
    "    \n",
    "    # Sprawdź, czy DataFrame o danej nazwie istnieje\n",
    "    if df_name in globals():\n",
    "        globals()[df_name] = process_race_data(globals()[df_name], year)\n",
    "        year += 1  # Przechodzimy do następnego roku\n",
    "    else:\n",
    "        print(f\"Brak DataFrame'u {df_name}. Zakończono przetwarzanie.\")\n",
    "        break  # Kończymy, jeśli DataFrame nie istnieje"
   ]
  },
  {
   "cell_type": "code",
   "execution_count": 42,
   "id": "fe5b3414-e13c-4dd0-8fed-ac69fac08274",
   "metadata": {},
   "outputs": [
    {
     "data": {
      "text/html": [
       "<div>\n",
       "<style scoped>\n",
       "    .dataframe tbody tr th:only-of-type {\n",
       "        vertical-align: middle;\n",
       "    }\n",
       "\n",
       "    .dataframe tbody tr th {\n",
       "        vertical-align: top;\n",
       "    }\n",
       "\n",
       "    .dataframe thead th {\n",
       "        text-align: right;\n",
       "    }\n",
       "</style>\n",
       "<table border=\"1\" class=\"dataframe\">\n",
       "  <thead>\n",
       "    <tr style=\"text-align: right;\">\n",
       "      <th></th>\n",
       "      <th>Płeć</th>\n",
       "      <th>Wiek</th>\n",
       "      <th>5 km Czas</th>\n",
       "      <th>Czas</th>\n",
       "    </tr>\n",
       "  </thead>\n",
       "  <tbody>\n",
       "    <tr>\n",
       "      <th>325</th>\n",
       "      <td>K</td>\n",
       "      <td>26</td>\n",
       "      <td>1192</td>\n",
       "      <td>5402</td>\n",
       "    </tr>\n",
       "    <tr>\n",
       "      <th>6451</th>\n",
       "      <td>K</td>\n",
       "      <td>42</td>\n",
       "      <td>1900</td>\n",
       "      <td>8295</td>\n",
       "    </tr>\n",
       "    <tr>\n",
       "      <th>227</th>\n",
       "      <td>M</td>\n",
       "      <td>49</td>\n",
       "      <td>1212</td>\n",
       "      <td>5291</td>\n",
       "    </tr>\n",
       "    <tr>\n",
       "      <th>3163</th>\n",
       "      <td>M</td>\n",
       "      <td>34</td>\n",
       "      <td>1569</td>\n",
       "      <td>6911</td>\n",
       "    </tr>\n",
       "    <tr>\n",
       "      <th>1553</th>\n",
       "      <td>M</td>\n",
       "      <td>42</td>\n",
       "      <td>1481</td>\n",
       "      <td>6302</td>\n",
       "    </tr>\n",
       "  </tbody>\n",
       "</table>\n",
       "</div>"
      ],
      "text/plain": [
       "     Płeć  Wiek  5 km Czas  Czas\n",
       "325     K    26       1192  5402\n",
       "6451    K    42       1900  8295\n",
       "227     M    49       1212  5291\n",
       "3163    M    34       1569  6911\n",
       "1553    M    42       1481  6302"
      ]
     },
     "execution_count": 42,
     "metadata": {},
     "output_type": "execute_result"
    }
   ],
   "source": [
    "# sprawdzamy na wszelki wypadek, czy wszystko jest OK\n",
    "bieg_2023_df.sample(5)"
   ]
  },
  {
   "cell_type": "markdown",
   "id": "3bc17107-9d8f-46d7-9e71-12b5efd3bd03",
   "metadata": {},
   "source": [
    "## Przystępujemy do wyboru i terenowania modelu.\n",
    "### Zrobimy tak, że dane z roku 2023 zostana przeznaczone do wytrenowania modelu, a dane z roku 2024 do jego przetestowania."
   ]
  },
  {
   "cell_type": "code",
   "execution_count": 43,
   "id": "19de97f0-2c39-4033-9c58-bdf546373eab",
   "metadata": {},
   "outputs": [],
   "source": [
    "exp = setup(\n",
    "    data=bieg_2023_df,\n",
    "    target='Czas',\n",
    "    session_id=123,\n",
    "    verbose=False,\n",
    "    categorical_features=['Płeć'],\n",
    "    numeric_features=['Wiek', '5 km Czas']\n",
    ")"
   ]
  },
  {
   "cell_type": "code",
   "execution_count": 44,
   "id": "50926f72-cc78-47a9-a94c-49ee0536eb89",
   "metadata": {},
   "outputs": [
    {
     "data": {
      "text/html": [],
      "text/plain": [
       "<IPython.core.display.HTML object>"
      ]
     },
     "metadata": {},
     "output_type": "display_data"
    },
    {
     "data": {
      "text/html": [
       "<style type=\"text/css\">\n",
       "#T_077c7 th {\n",
       "  text-align: left;\n",
       "}\n",
       "#T_077c7_row0_col0, #T_077c7_row0_col6, #T_077c7_row1_col0, #T_077c7_row1_col1, #T_077c7_row1_col2, #T_077c7_row1_col3, #T_077c7_row1_col4, #T_077c7_row1_col5, #T_077c7_row1_col6, #T_077c7_row2_col0, #T_077c7_row2_col1, #T_077c7_row2_col2, #T_077c7_row2_col3, #T_077c7_row2_col4, #T_077c7_row2_col5, #T_077c7_row2_col6, #T_077c7_row3_col0, #T_077c7_row3_col1, #T_077c7_row3_col2, #T_077c7_row3_col3, #T_077c7_row3_col4, #T_077c7_row3_col5, #T_077c7_row3_col6, #T_077c7_row4_col0, #T_077c7_row4_col1, #T_077c7_row4_col2, #T_077c7_row4_col3, #T_077c7_row4_col4, #T_077c7_row4_col5, #T_077c7_row4_col6, #T_077c7_row5_col0, #T_077c7_row5_col1, #T_077c7_row5_col2, #T_077c7_row5_col3, #T_077c7_row5_col4, #T_077c7_row5_col5, #T_077c7_row5_col6, #T_077c7_row6_col0, #T_077c7_row6_col1, #T_077c7_row6_col2, #T_077c7_row6_col3, #T_077c7_row6_col4, #T_077c7_row6_col5, #T_077c7_row6_col6, #T_077c7_row7_col0, #T_077c7_row7_col1, #T_077c7_row7_col2, #T_077c7_row7_col3, #T_077c7_row7_col4, #T_077c7_row7_col5, #T_077c7_row7_col6, #T_077c7_row8_col0, #T_077c7_row8_col1, #T_077c7_row8_col2, #T_077c7_row8_col3, #T_077c7_row8_col4, #T_077c7_row8_col5, #T_077c7_row8_col6, #T_077c7_row9_col0, #T_077c7_row9_col1, #T_077c7_row9_col2, #T_077c7_row9_col3, #T_077c7_row9_col4, #T_077c7_row9_col5, #T_077c7_row9_col6, #T_077c7_row10_col0, #T_077c7_row10_col1, #T_077c7_row10_col2, #T_077c7_row10_col3, #T_077c7_row10_col4, #T_077c7_row10_col5, #T_077c7_row10_col6, #T_077c7_row11_col0, #T_077c7_row11_col1, #T_077c7_row11_col2, #T_077c7_row11_col3, #T_077c7_row11_col4, #T_077c7_row11_col5, #T_077c7_row12_col0, #T_077c7_row12_col1, #T_077c7_row12_col2, #T_077c7_row12_col3, #T_077c7_row12_col4, #T_077c7_row12_col5, #T_077c7_row12_col6, #T_077c7_row13_col0, #T_077c7_row13_col1, #T_077c7_row13_col2, #T_077c7_row13_col3, #T_077c7_row13_col4, #T_077c7_row13_col5, #T_077c7_row13_col6, #T_077c7_row14_col0, #T_077c7_row14_col1, #T_077c7_row14_col2, #T_077c7_row14_col3, #T_077c7_row14_col4, #T_077c7_row14_col5, #T_077c7_row14_col6, #T_077c7_row15_col0, #T_077c7_row15_col1, #T_077c7_row15_col2, #T_077c7_row15_col3, #T_077c7_row15_col4, #T_077c7_row15_col5, #T_077c7_row15_col6, #T_077c7_row16_col0, #T_077c7_row16_col1, #T_077c7_row16_col2, #T_077c7_row16_col3, #T_077c7_row16_col4, #T_077c7_row16_col5, #T_077c7_row16_col6, #T_077c7_row17_col0, #T_077c7_row17_col1, #T_077c7_row17_col2, #T_077c7_row17_col3, #T_077c7_row17_col4, #T_077c7_row17_col5, #T_077c7_row17_col6 {\n",
       "  text-align: left;\n",
       "}\n",
       "#T_077c7_row0_col1, #T_077c7_row0_col2, #T_077c7_row0_col3, #T_077c7_row0_col4, #T_077c7_row0_col5, #T_077c7_row11_col6 {\n",
       "  text-align: left;\n",
       "  background-color: yellow;\n",
       "}\n",
       "#T_077c7_row0_col7, #T_077c7_row1_col7, #T_077c7_row2_col7, #T_077c7_row3_col7, #T_077c7_row5_col7, #T_077c7_row6_col7, #T_077c7_row7_col7, #T_077c7_row8_col7, #T_077c7_row9_col7, #T_077c7_row10_col7, #T_077c7_row11_col7, #T_077c7_row12_col7, #T_077c7_row13_col7, #T_077c7_row14_col7, #T_077c7_row15_col7, #T_077c7_row16_col7 {\n",
       "  text-align: left;\n",
       "  background-color: lightgrey;\n",
       "}\n",
       "#T_077c7_row4_col7, #T_077c7_row17_col7 {\n",
       "  text-align: left;\n",
       "  background-color: yellow;\n",
       "  background-color: lightgrey;\n",
       "}\n",
       "</style>\n",
       "<table id=\"T_077c7\">\n",
       "  <thead>\n",
       "    <tr>\n",
       "      <th class=\"blank level0\" >&nbsp;</th>\n",
       "      <th id=\"T_077c7_level0_col0\" class=\"col_heading level0 col0\" >Model</th>\n",
       "      <th id=\"T_077c7_level0_col1\" class=\"col_heading level0 col1\" >MAE</th>\n",
       "      <th id=\"T_077c7_level0_col2\" class=\"col_heading level0 col2\" >MSE</th>\n",
       "      <th id=\"T_077c7_level0_col3\" class=\"col_heading level0 col3\" >RMSE</th>\n",
       "      <th id=\"T_077c7_level0_col4\" class=\"col_heading level0 col4\" >R2</th>\n",
       "      <th id=\"T_077c7_level0_col5\" class=\"col_heading level0 col5\" >RMSLE</th>\n",
       "      <th id=\"T_077c7_level0_col6\" class=\"col_heading level0 col6\" >MAPE</th>\n",
       "      <th id=\"T_077c7_level0_col7\" class=\"col_heading level0 col7\" >TT (Sec)</th>\n",
       "    </tr>\n",
       "  </thead>\n",
       "  <tbody>\n",
       "    <tr>\n",
       "      <th id=\"T_077c7_level0_row0\" class=\"row_heading level0 row0\" >gbr</th>\n",
       "      <td id=\"T_077c7_row0_col0\" class=\"data row0 col0\" >Gradient Boosting Regressor</td>\n",
       "      <td id=\"T_077c7_row0_col1\" class=\"data row0 col1\" >289.4654</td>\n",
       "      <td id=\"T_077c7_row0_col2\" class=\"data row0 col2\" >163273.9844</td>\n",
       "      <td id=\"T_077c7_row0_col3\" class=\"data row0 col3\" >403.6826</td>\n",
       "      <td id=\"T_077c7_row0_col4\" class=\"data row0 col4\" >0.8870</td>\n",
       "      <td id=\"T_077c7_row0_col5\" class=\"data row0 col5\" >0.0513</td>\n",
       "      <td id=\"T_077c7_row0_col6\" class=\"data row0 col6\" >0.0380</td>\n",
       "      <td id=\"T_077c7_row0_col7\" class=\"data row0 col7\" >0.1840</td>\n",
       "    </tr>\n",
       "    <tr>\n",
       "      <th id=\"T_077c7_level0_row1\" class=\"row_heading level0 row1\" >lightgbm</th>\n",
       "      <td id=\"T_077c7_row1_col0\" class=\"data row1 col0\" >Light Gradient Boosting Machine</td>\n",
       "      <td id=\"T_077c7_row1_col1\" class=\"data row1 col1\" >296.6885</td>\n",
       "      <td id=\"T_077c7_row1_col2\" class=\"data row1 col2\" >172558.4836</td>\n",
       "      <td id=\"T_077c7_row1_col3\" class=\"data row1 col3\" >415.0751</td>\n",
       "      <td id=\"T_077c7_row1_col4\" class=\"data row1 col4\" >0.8807</td>\n",
       "      <td id=\"T_077c7_row1_col5\" class=\"data row1 col5\" >0.0525</td>\n",
       "      <td id=\"T_077c7_row1_col6\" class=\"data row1 col6\" >0.0389</td>\n",
       "      <td id=\"T_077c7_row1_col7\" class=\"data row1 col7\" >21.2360</td>\n",
       "    </tr>\n",
       "    <tr>\n",
       "      <th id=\"T_077c7_level0_row2\" class=\"row_heading level0 row2\" >knn</th>\n",
       "      <td id=\"T_077c7_row2_col0\" class=\"data row2 col0\" >K Neighbors Regressor</td>\n",
       "      <td id=\"T_077c7_row2_col1\" class=\"data row2 col1\" >313.9620</td>\n",
       "      <td id=\"T_077c7_row2_col2\" class=\"data row2 col2\" >191101.9177</td>\n",
       "      <td id=\"T_077c7_row2_col3\" class=\"data row2 col3\" >436.8169</td>\n",
       "      <td id=\"T_077c7_row2_col4\" class=\"data row2 col4\" >0.8678</td>\n",
       "      <td id=\"T_077c7_row2_col5\" class=\"data row2 col5\" >0.0557</td>\n",
       "      <td id=\"T_077c7_row2_col6\" class=\"data row2 col6\" >0.0413</td>\n",
       "      <td id=\"T_077c7_row2_col7\" class=\"data row2 col7\" >0.0350</td>\n",
       "    </tr>\n",
       "    <tr>\n",
       "      <th id=\"T_077c7_level0_row3\" class=\"row_heading level0 row3\" >en</th>\n",
       "      <td id=\"T_077c7_row3_col0\" class=\"data row3 col0\" >Elastic Net</td>\n",
       "      <td id=\"T_077c7_row3_col1\" class=\"data row3 col1\" >295.9051</td>\n",
       "      <td id=\"T_077c7_row3_col2\" class=\"data row3 col2\" >192089.6218</td>\n",
       "      <td id=\"T_077c7_row3_col3\" class=\"data row3 col3\" >434.3866</td>\n",
       "      <td id=\"T_077c7_row3_col4\" class=\"data row3 col4\" >0.8663</td>\n",
       "      <td id=\"T_077c7_row3_col5\" class=\"data row3 col5\" >0.0529</td>\n",
       "      <td id=\"T_077c7_row3_col6\" class=\"data row3 col6\" >0.0388</td>\n",
       "      <td id=\"T_077c7_row3_col7\" class=\"data row3 col7\" >0.0320</td>\n",
       "    </tr>\n",
       "    <tr>\n",
       "      <th id=\"T_077c7_level0_row4\" class=\"row_heading level0 row4\" >omp</th>\n",
       "      <td id=\"T_077c7_row4_col0\" class=\"data row4 col0\" >Orthogonal Matching Pursuit</td>\n",
       "      <td id=\"T_077c7_row4_col1\" class=\"data row4 col1\" >295.8321</td>\n",
       "      <td id=\"T_077c7_row4_col2\" class=\"data row4 col2\" >192120.5197</td>\n",
       "      <td id=\"T_077c7_row4_col3\" class=\"data row4 col3\" >434.4338</td>\n",
       "      <td id=\"T_077c7_row4_col4\" class=\"data row4 col4\" >0.8663</td>\n",
       "      <td id=\"T_077c7_row4_col5\" class=\"data row4 col5\" >0.0529</td>\n",
       "      <td id=\"T_077c7_row4_col6\" class=\"data row4 col6\" >0.0388</td>\n",
       "      <td id=\"T_077c7_row4_col7\" class=\"data row4 col7\" >0.0310</td>\n",
       "    </tr>\n",
       "    <tr>\n",
       "      <th id=\"T_077c7_level0_row5\" class=\"row_heading level0 row5\" >br</th>\n",
       "      <td id=\"T_077c7_row5_col0\" class=\"data row5 col0\" >Bayesian Ridge</td>\n",
       "      <td id=\"T_077c7_row5_col1\" class=\"data row5 col1\" >295.8899</td>\n",
       "      <td id=\"T_077c7_row5_col2\" class=\"data row5 col2\" >192067.5978</td>\n",
       "      <td id=\"T_077c7_row5_col3\" class=\"data row5 col3\" >434.3633</td>\n",
       "      <td id=\"T_077c7_row5_col4\" class=\"data row5 col4\" >0.8663</td>\n",
       "      <td id=\"T_077c7_row5_col5\" class=\"data row5 col5\" >0.0529</td>\n",
       "      <td id=\"T_077c7_row5_col6\" class=\"data row5 col6\" >0.0388</td>\n",
       "      <td id=\"T_077c7_row5_col7\" class=\"data row5 col7\" >0.0320</td>\n",
       "    </tr>\n",
       "    <tr>\n",
       "      <th id=\"T_077c7_level0_row6\" class=\"row_heading level0 row6\" >ridge</th>\n",
       "      <td id=\"T_077c7_row6_col0\" class=\"data row6 col0\" >Ridge Regression</td>\n",
       "      <td id=\"T_077c7_row6_col1\" class=\"data row6 col1\" >296.0021</td>\n",
       "      <td id=\"T_077c7_row6_col2\" class=\"data row6 col2\" >192212.4994</td>\n",
       "      <td id=\"T_077c7_row6_col3\" class=\"data row6 col3\" >434.5219</td>\n",
       "      <td id=\"T_077c7_row6_col4\" class=\"data row6 col4\" >0.8662</td>\n",
       "      <td id=\"T_077c7_row6_col5\" class=\"data row6 col5\" >0.0529</td>\n",
       "      <td id=\"T_077c7_row6_col6\" class=\"data row6 col6\" >0.0388</td>\n",
       "      <td id=\"T_077c7_row6_col7\" class=\"data row6 col7\" >0.0320</td>\n",
       "    </tr>\n",
       "    <tr>\n",
       "      <th id=\"T_077c7_level0_row7\" class=\"row_heading level0 row7\" >lar</th>\n",
       "      <td id=\"T_077c7_row7_col0\" class=\"data row7 col0\" >Least Angle Regression</td>\n",
       "      <td id=\"T_077c7_row7_col1\" class=\"data row7 col1\" >296.0022</td>\n",
       "      <td id=\"T_077c7_row7_col2\" class=\"data row7 col2\" >192212.6771</td>\n",
       "      <td id=\"T_077c7_row7_col3\" class=\"data row7 col3\" >434.5221</td>\n",
       "      <td id=\"T_077c7_row7_col4\" class=\"data row7 col4\" >0.8662</td>\n",
       "      <td id=\"T_077c7_row7_col5\" class=\"data row7 col5\" >0.0529</td>\n",
       "      <td id=\"T_077c7_row7_col6\" class=\"data row7 col6\" >0.0388</td>\n",
       "      <td id=\"T_077c7_row7_col7\" class=\"data row7 col7\" >0.0330</td>\n",
       "    </tr>\n",
       "    <tr>\n",
       "      <th id=\"T_077c7_level0_row8\" class=\"row_heading level0 row8\" >llar</th>\n",
       "      <td id=\"T_077c7_row8_col0\" class=\"data row8 col0\" >Lasso Least Angle Regression</td>\n",
       "      <td id=\"T_077c7_row8_col1\" class=\"data row8 col1\" >295.9350</td>\n",
       "      <td id=\"T_077c7_row8_col2\" class=\"data row8 col2\" >192130.4305</td>\n",
       "      <td id=\"T_077c7_row8_col3\" class=\"data row8 col3\" >434.4315</td>\n",
       "      <td id=\"T_077c7_row8_col4\" class=\"data row8 col4\" >0.8662</td>\n",
       "      <td id=\"T_077c7_row8_col5\" class=\"data row8 col5\" >0.0529</td>\n",
       "      <td id=\"T_077c7_row8_col6\" class=\"data row8 col6\" >0.0388</td>\n",
       "      <td id=\"T_077c7_row8_col7\" class=\"data row8 col7\" >0.0330</td>\n",
       "    </tr>\n",
       "    <tr>\n",
       "      <th id=\"T_077c7_level0_row9\" class=\"row_heading level0 row9\" >lasso</th>\n",
       "      <td id=\"T_077c7_row9_col0\" class=\"data row9 col0\" >Lasso Regression</td>\n",
       "      <td id=\"T_077c7_row9_col1\" class=\"data row9 col1\" >295.9350</td>\n",
       "      <td id=\"T_077c7_row9_col2\" class=\"data row9 col2\" >192130.4299</td>\n",
       "      <td id=\"T_077c7_row9_col3\" class=\"data row9 col3\" >434.4315</td>\n",
       "      <td id=\"T_077c7_row9_col4\" class=\"data row9 col4\" >0.8662</td>\n",
       "      <td id=\"T_077c7_row9_col5\" class=\"data row9 col5\" >0.0529</td>\n",
       "      <td id=\"T_077c7_row9_col6\" class=\"data row9 col6\" >0.0388</td>\n",
       "      <td id=\"T_077c7_row9_col7\" class=\"data row9 col7\" >0.0330</td>\n",
       "    </tr>\n",
       "    <tr>\n",
       "      <th id=\"T_077c7_level0_row10\" class=\"row_heading level0 row10\" >lr</th>\n",
       "      <td id=\"T_077c7_row10_col0\" class=\"data row10 col0\" >Linear Regression</td>\n",
       "      <td id=\"T_077c7_row10_col1\" class=\"data row10 col1\" >296.0022</td>\n",
       "      <td id=\"T_077c7_row10_col2\" class=\"data row10 col2\" >192212.6771</td>\n",
       "      <td id=\"T_077c7_row10_col3\" class=\"data row10 col3\" >434.5221</td>\n",
       "      <td id=\"T_077c7_row10_col4\" class=\"data row10 col4\" >0.8662</td>\n",
       "      <td id=\"T_077c7_row10_col5\" class=\"data row10 col5\" >0.0529</td>\n",
       "      <td id=\"T_077c7_row10_col6\" class=\"data row10 col6\" >0.0388</td>\n",
       "      <td id=\"T_077c7_row10_col7\" class=\"data row10 col7\" >0.4580</td>\n",
       "    </tr>\n",
       "    <tr>\n",
       "      <th id=\"T_077c7_level0_row11\" class=\"row_heading level0 row11\" >huber</th>\n",
       "      <td id=\"T_077c7_row11_col0\" class=\"data row11 col0\" >Huber Regressor</td>\n",
       "      <td id=\"T_077c7_row11_col1\" class=\"data row11 col1\" >292.0740</td>\n",
       "      <td id=\"T_077c7_row11_col2\" class=\"data row11 col2\" >195195.1038</td>\n",
       "      <td id=\"T_077c7_row11_col3\" class=\"data row11 col3\" >438.2940</td>\n",
       "      <td id=\"T_077c7_row11_col4\" class=\"data row11 col4\" >0.8642</td>\n",
       "      <td id=\"T_077c7_row11_col5\" class=\"data row11 col5\" >0.0533</td>\n",
       "      <td id=\"T_077c7_row11_col6\" class=\"data row11 col6\" >0.0379</td>\n",
       "      <td id=\"T_077c7_row11_col7\" class=\"data row11 col7\" >0.0520</td>\n",
       "    </tr>\n",
       "    <tr>\n",
       "      <th id=\"T_077c7_level0_row12\" class=\"row_heading level0 row12\" >rf</th>\n",
       "      <td id=\"T_077c7_row12_col0\" class=\"data row12 col0\" >Random Forest Regressor</td>\n",
       "      <td id=\"T_077c7_row12_col1\" class=\"data row12 col1\" >321.4254</td>\n",
       "      <td id=\"T_077c7_row12_col2\" class=\"data row12 col2\" >198807.5884</td>\n",
       "      <td id=\"T_077c7_row12_col3\" class=\"data row12 col3\" >445.5173</td>\n",
       "      <td id=\"T_077c7_row12_col4\" class=\"data row12 col4\" >0.8628</td>\n",
       "      <td id=\"T_077c7_row12_col5\" class=\"data row12 col5\" >0.0567</td>\n",
       "      <td id=\"T_077c7_row12_col6\" class=\"data row12 col6\" >0.0424</td>\n",
       "      <td id=\"T_077c7_row12_col7\" class=\"data row12 col7\" >0.4630</td>\n",
       "    </tr>\n",
       "    <tr>\n",
       "      <th id=\"T_077c7_level0_row13\" class=\"row_heading level0 row13\" >et</th>\n",
       "      <td id=\"T_077c7_row13_col0\" class=\"data row13 col0\" >Extra Trees Regressor</td>\n",
       "      <td id=\"T_077c7_row13_col1\" class=\"data row13 col1\" >333.3497</td>\n",
       "      <td id=\"T_077c7_row13_col2\" class=\"data row13 col2\" >220210.6829</td>\n",
       "      <td id=\"T_077c7_row13_col3\" class=\"data row13 col3\" >468.8033</td>\n",
       "      <td id=\"T_077c7_row13_col4\" class=\"data row13 col4\" >0.8481</td>\n",
       "      <td id=\"T_077c7_row13_col5\" class=\"data row13 col5\" >0.0596</td>\n",
       "      <td id=\"T_077c7_row13_col6\" class=\"data row13 col6\" >0.0439</td>\n",
       "      <td id=\"T_077c7_row13_col7\" class=\"data row13 col7\" >0.3600</td>\n",
       "    </tr>\n",
       "    <tr>\n",
       "      <th id=\"T_077c7_level0_row14\" class=\"row_heading level0 row14\" >par</th>\n",
       "      <td id=\"T_077c7_row14_col0\" class=\"data row14 col0\" >Passive Aggressive Regressor</td>\n",
       "      <td id=\"T_077c7_row14_col1\" class=\"data row14 col1\" >338.3360</td>\n",
       "      <td id=\"T_077c7_row14_col2\" class=\"data row14 col2\" >235575.0043</td>\n",
       "      <td id=\"T_077c7_row14_col3\" class=\"data row14 col3\" >482.9363</td>\n",
       "      <td id=\"T_077c7_row14_col4\" class=\"data row14 col4\" >0.8366</td>\n",
       "      <td id=\"T_077c7_row14_col5\" class=\"data row14 col5\" >0.0600</td>\n",
       "      <td id=\"T_077c7_row14_col6\" class=\"data row14 col6\" >0.0442</td>\n",
       "      <td id=\"T_077c7_row14_col7\" class=\"data row14 col7\" >0.0340</td>\n",
       "    </tr>\n",
       "    <tr>\n",
       "      <th id=\"T_077c7_level0_row15\" class=\"row_heading level0 row15\" >ada</th>\n",
       "      <td id=\"T_077c7_row15_col0\" class=\"data row15 col0\" >AdaBoost Regressor</td>\n",
       "      <td id=\"T_077c7_row15_col1\" class=\"data row15 col1\" >417.5957</td>\n",
       "      <td id=\"T_077c7_row15_col2\" class=\"data row15 col2\" >263994.7342</td>\n",
       "      <td id=\"T_077c7_row15_col3\" class=\"data row15 col3\" >513.4346</td>\n",
       "      <td id=\"T_077c7_row15_col4\" class=\"data row15 col4\" >0.8177</td>\n",
       "      <td id=\"T_077c7_row15_col5\" class=\"data row15 col5\" >0.0696</td>\n",
       "      <td id=\"T_077c7_row15_col6\" class=\"data row15 col6\" >0.0586</td>\n",
       "      <td id=\"T_077c7_row15_col7\" class=\"data row15 col7\" >0.1020</td>\n",
       "    </tr>\n",
       "    <tr>\n",
       "      <th id=\"T_077c7_level0_row16\" class=\"row_heading level0 row16\" >dt</th>\n",
       "      <td id=\"T_077c7_row16_col0\" class=\"data row16 col0\" >Decision Tree Regressor</td>\n",
       "      <td id=\"T_077c7_row16_col1\" class=\"data row16 col1\" >410.7310</td>\n",
       "      <td id=\"T_077c7_row16_col2\" class=\"data row16 col2\" >327615.4473</td>\n",
       "      <td id=\"T_077c7_row16_col3\" class=\"data row16 col3\" >571.7823</td>\n",
       "      <td id=\"T_077c7_row16_col4\" class=\"data row16 col4\" >0.7741</td>\n",
       "      <td id=\"T_077c7_row16_col5\" class=\"data row16 col5\" >0.0724</td>\n",
       "      <td id=\"T_077c7_row16_col6\" class=\"data row16 col6\" >0.0541</td>\n",
       "      <td id=\"T_077c7_row16_col7\" class=\"data row16 col7\" >0.0400</td>\n",
       "    </tr>\n",
       "    <tr>\n",
       "      <th id=\"T_077c7_level0_row17\" class=\"row_heading level0 row17\" >dummy</th>\n",
       "      <td id=\"T_077c7_row17_col0\" class=\"data row17 col0\" >Dummy Regressor</td>\n",
       "      <td id=\"T_077c7_row17_col1\" class=\"data row17 col1\" >952.7681</td>\n",
       "      <td id=\"T_077c7_row17_col2\" class=\"data row17 col2\" >1453789.0714</td>\n",
       "      <td id=\"T_077c7_row17_col3\" class=\"data row17 col3\" >1205.0879</td>\n",
       "      <td id=\"T_077c7_row17_col4\" class=\"data row17 col4\" >-0.0007</td>\n",
       "      <td id=\"T_077c7_row17_col5\" class=\"data row17 col5\" >0.1636</td>\n",
       "      <td id=\"T_077c7_row17_col6\" class=\"data row17 col6\" >0.1329</td>\n",
       "      <td id=\"T_077c7_row17_col7\" class=\"data row17 col7\" >0.0310</td>\n",
       "    </tr>\n",
       "  </tbody>\n",
       "</table>\n"
      ],
      "text/plain": [
       "<pandas.io.formats.style.Styler at 0x75d5e1566f10>"
      ]
     },
     "metadata": {},
     "output_type": "display_data"
    },
    {
     "data": {
      "text/html": [],
      "text/plain": [
       "<IPython.core.display.HTML object>"
      ]
     },
     "metadata": {},
     "output_type": "display_data"
    }
   ],
   "source": [
    "best_model = exp.compare_models(sort='R2')"
   ]
  },
  {
   "cell_type": "code",
   "execution_count": 45,
   "id": "41a70021-6f5c-4028-87de-ccc7522a13c1",
   "metadata": {},
   "outputs": [
    {
     "data": {
      "text/html": [],
      "text/plain": [
       "<IPython.core.display.HTML object>"
      ]
     },
     "metadata": {},
     "output_type": "display_data"
    },
    {
     "data": {
      "text/html": [
       "<style type=\"text/css\">\n",
       "#T_d1c72 th {\n",
       "  text-align: left;\n",
       "}\n",
       "#T_d1c72_row0_col0, #T_d1c72_row0_col6, #T_d1c72_row1_col0, #T_d1c72_row1_col1, #T_d1c72_row1_col2, #T_d1c72_row1_col3, #T_d1c72_row1_col4, #T_d1c72_row1_col5, #T_d1c72_row1_col6, #T_d1c72_row2_col0, #T_d1c72_row2_col1, #T_d1c72_row2_col2, #T_d1c72_row2_col3, #T_d1c72_row2_col4, #T_d1c72_row2_col5, #T_d1c72_row2_col6, #T_d1c72_row3_col0, #T_d1c72_row3_col1, #T_d1c72_row3_col2, #T_d1c72_row3_col3, #T_d1c72_row3_col4, #T_d1c72_row3_col5, #T_d1c72_row3_col6, #T_d1c72_row4_col0, #T_d1c72_row4_col1, #T_d1c72_row4_col2, #T_d1c72_row4_col3, #T_d1c72_row4_col4, #T_d1c72_row4_col5, #T_d1c72_row4_col6, #T_d1c72_row5_col0, #T_d1c72_row5_col1, #T_d1c72_row5_col2, #T_d1c72_row5_col3, #T_d1c72_row5_col4, #T_d1c72_row5_col5, #T_d1c72_row5_col6, #T_d1c72_row6_col0, #T_d1c72_row6_col1, #T_d1c72_row6_col2, #T_d1c72_row6_col3, #T_d1c72_row6_col4, #T_d1c72_row6_col5, #T_d1c72_row6_col6, #T_d1c72_row7_col0, #T_d1c72_row7_col1, #T_d1c72_row7_col2, #T_d1c72_row7_col3, #T_d1c72_row7_col4, #T_d1c72_row7_col5, #T_d1c72_row7_col6, #T_d1c72_row8_col0, #T_d1c72_row8_col1, #T_d1c72_row8_col2, #T_d1c72_row8_col3, #T_d1c72_row8_col4, #T_d1c72_row8_col5, #T_d1c72_row8_col6, #T_d1c72_row9_col0, #T_d1c72_row9_col1, #T_d1c72_row9_col2, #T_d1c72_row9_col3, #T_d1c72_row9_col4, #T_d1c72_row9_col5, #T_d1c72_row9_col6, #T_d1c72_row10_col0, #T_d1c72_row10_col1, #T_d1c72_row10_col2, #T_d1c72_row10_col3, #T_d1c72_row10_col4, #T_d1c72_row10_col5, #T_d1c72_row10_col6, #T_d1c72_row11_col0, #T_d1c72_row11_col1, #T_d1c72_row11_col2, #T_d1c72_row11_col3, #T_d1c72_row11_col4, #T_d1c72_row11_col5, #T_d1c72_row12_col0, #T_d1c72_row12_col1, #T_d1c72_row12_col2, #T_d1c72_row12_col3, #T_d1c72_row12_col4, #T_d1c72_row12_col5, #T_d1c72_row12_col6, #T_d1c72_row13_col0, #T_d1c72_row13_col1, #T_d1c72_row13_col2, #T_d1c72_row13_col3, #T_d1c72_row13_col4, #T_d1c72_row13_col5, #T_d1c72_row13_col6, #T_d1c72_row14_col0, #T_d1c72_row14_col1, #T_d1c72_row14_col2, #T_d1c72_row14_col3, #T_d1c72_row14_col4, #T_d1c72_row14_col5, #T_d1c72_row14_col6, #T_d1c72_row15_col0, #T_d1c72_row15_col1, #T_d1c72_row15_col2, #T_d1c72_row15_col3, #T_d1c72_row15_col4, #T_d1c72_row15_col5, #T_d1c72_row15_col6, #T_d1c72_row16_col0, #T_d1c72_row16_col1, #T_d1c72_row16_col2, #T_d1c72_row16_col3, #T_d1c72_row16_col4, #T_d1c72_row16_col5, #T_d1c72_row16_col6, #T_d1c72_row17_col0, #T_d1c72_row17_col1, #T_d1c72_row17_col2, #T_d1c72_row17_col3, #T_d1c72_row17_col4, #T_d1c72_row17_col5, #T_d1c72_row17_col6 {\n",
       "  text-align: left;\n",
       "}\n",
       "#T_d1c72_row0_col1, #T_d1c72_row0_col2, #T_d1c72_row0_col3, #T_d1c72_row0_col4, #T_d1c72_row0_col5, #T_d1c72_row11_col6 {\n",
       "  text-align: left;\n",
       "  background-color: yellow;\n",
       "}\n",
       "#T_d1c72_row0_col7, #T_d1c72_row1_col7, #T_d1c72_row2_col7, #T_d1c72_row5_col7, #T_d1c72_row6_col7, #T_d1c72_row8_col7, #T_d1c72_row9_col7, #T_d1c72_row10_col7, #T_d1c72_row11_col7, #T_d1c72_row12_col7, #T_d1c72_row13_col7, #T_d1c72_row14_col7, #T_d1c72_row15_col7, #T_d1c72_row16_col7, #T_d1c72_row17_col7 {\n",
       "  text-align: left;\n",
       "  background-color: lightgrey;\n",
       "}\n",
       "#T_d1c72_row3_col7, #T_d1c72_row4_col7, #T_d1c72_row7_col7 {\n",
       "  text-align: left;\n",
       "  background-color: yellow;\n",
       "  background-color: lightgrey;\n",
       "}\n",
       "</style>\n",
       "<table id=\"T_d1c72\">\n",
       "  <thead>\n",
       "    <tr>\n",
       "      <th class=\"blank level0\" >&nbsp;</th>\n",
       "      <th id=\"T_d1c72_level0_col0\" class=\"col_heading level0 col0\" >Model</th>\n",
       "      <th id=\"T_d1c72_level0_col1\" class=\"col_heading level0 col1\" >MAE</th>\n",
       "      <th id=\"T_d1c72_level0_col2\" class=\"col_heading level0 col2\" >MSE</th>\n",
       "      <th id=\"T_d1c72_level0_col3\" class=\"col_heading level0 col3\" >RMSE</th>\n",
       "      <th id=\"T_d1c72_level0_col4\" class=\"col_heading level0 col4\" >R2</th>\n",
       "      <th id=\"T_d1c72_level0_col5\" class=\"col_heading level0 col5\" >RMSLE</th>\n",
       "      <th id=\"T_d1c72_level0_col6\" class=\"col_heading level0 col6\" >MAPE</th>\n",
       "      <th id=\"T_d1c72_level0_col7\" class=\"col_heading level0 col7\" >TT (Sec)</th>\n",
       "    </tr>\n",
       "  </thead>\n",
       "  <tbody>\n",
       "    <tr>\n",
       "      <th id=\"T_d1c72_level0_row0\" class=\"row_heading level0 row0\" >gbr</th>\n",
       "      <td id=\"T_d1c72_row0_col0\" class=\"data row0 col0\" >Gradient Boosting Regressor</td>\n",
       "      <td id=\"T_d1c72_row0_col1\" class=\"data row0 col1\" >289.4654</td>\n",
       "      <td id=\"T_d1c72_row0_col2\" class=\"data row0 col2\" >163273.9844</td>\n",
       "      <td id=\"T_d1c72_row0_col3\" class=\"data row0 col3\" >403.6826</td>\n",
       "      <td id=\"T_d1c72_row0_col4\" class=\"data row0 col4\" >0.8870</td>\n",
       "      <td id=\"T_d1c72_row0_col5\" class=\"data row0 col5\" >0.0513</td>\n",
       "      <td id=\"T_d1c72_row0_col6\" class=\"data row0 col6\" >0.0380</td>\n",
       "      <td id=\"T_d1c72_row0_col7\" class=\"data row0 col7\" >0.1800</td>\n",
       "    </tr>\n",
       "    <tr>\n",
       "      <th id=\"T_d1c72_level0_row1\" class=\"row_heading level0 row1\" >lightgbm</th>\n",
       "      <td id=\"T_d1c72_row1_col0\" class=\"data row1 col0\" >Light Gradient Boosting Machine</td>\n",
       "      <td id=\"T_d1c72_row1_col1\" class=\"data row1 col1\" >296.6885</td>\n",
       "      <td id=\"T_d1c72_row1_col2\" class=\"data row1 col2\" >172558.4836</td>\n",
       "      <td id=\"T_d1c72_row1_col3\" class=\"data row1 col3\" >415.0751</td>\n",
       "      <td id=\"T_d1c72_row1_col4\" class=\"data row1 col4\" >0.8807</td>\n",
       "      <td id=\"T_d1c72_row1_col5\" class=\"data row1 col5\" >0.0525</td>\n",
       "      <td id=\"T_d1c72_row1_col6\" class=\"data row1 col6\" >0.0389</td>\n",
       "      <td id=\"T_d1c72_row1_col7\" class=\"data row1 col7\" >23.1790</td>\n",
       "    </tr>\n",
       "    <tr>\n",
       "      <th id=\"T_d1c72_level0_row2\" class=\"row_heading level0 row2\" >br</th>\n",
       "      <td id=\"T_d1c72_row2_col0\" class=\"data row2 col0\" >Bayesian Ridge</td>\n",
       "      <td id=\"T_d1c72_row2_col1\" class=\"data row2 col1\" >295.8899</td>\n",
       "      <td id=\"T_d1c72_row2_col2\" class=\"data row2 col2\" >192067.5978</td>\n",
       "      <td id=\"T_d1c72_row2_col3\" class=\"data row2 col3\" >434.3633</td>\n",
       "      <td id=\"T_d1c72_row2_col4\" class=\"data row2 col4\" >0.8663</td>\n",
       "      <td id=\"T_d1c72_row2_col5\" class=\"data row2 col5\" >0.0529</td>\n",
       "      <td id=\"T_d1c72_row2_col6\" class=\"data row2 col6\" >0.0388</td>\n",
       "      <td id=\"T_d1c72_row2_col7\" class=\"data row2 col7\" >0.0460</td>\n",
       "    </tr>\n",
       "    <tr>\n",
       "      <th id=\"T_d1c72_level0_row3\" class=\"row_heading level0 row3\" >en</th>\n",
       "      <td id=\"T_d1c72_row3_col0\" class=\"data row3 col0\" >Elastic Net</td>\n",
       "      <td id=\"T_d1c72_row3_col1\" class=\"data row3 col1\" >295.9051</td>\n",
       "      <td id=\"T_d1c72_row3_col2\" class=\"data row3 col2\" >192089.6218</td>\n",
       "      <td id=\"T_d1c72_row3_col3\" class=\"data row3 col3\" >434.3866</td>\n",
       "      <td id=\"T_d1c72_row3_col4\" class=\"data row3 col4\" >0.8663</td>\n",
       "      <td id=\"T_d1c72_row3_col5\" class=\"data row3 col5\" >0.0529</td>\n",
       "      <td id=\"T_d1c72_row3_col6\" class=\"data row3 col6\" >0.0388</td>\n",
       "      <td id=\"T_d1c72_row3_col7\" class=\"data row3 col7\" >0.0320</td>\n",
       "    </tr>\n",
       "    <tr>\n",
       "      <th id=\"T_d1c72_level0_row4\" class=\"row_heading level0 row4\" >lasso</th>\n",
       "      <td id=\"T_d1c72_row4_col0\" class=\"data row4 col0\" >Lasso Regression</td>\n",
       "      <td id=\"T_d1c72_row4_col1\" class=\"data row4 col1\" >295.9350</td>\n",
       "      <td id=\"T_d1c72_row4_col2\" class=\"data row4 col2\" >192130.4299</td>\n",
       "      <td id=\"T_d1c72_row4_col3\" class=\"data row4 col3\" >434.4315</td>\n",
       "      <td id=\"T_d1c72_row4_col4\" class=\"data row4 col4\" >0.8662</td>\n",
       "      <td id=\"T_d1c72_row4_col5\" class=\"data row4 col5\" >0.0529</td>\n",
       "      <td id=\"T_d1c72_row4_col6\" class=\"data row4 col6\" >0.0388</td>\n",
       "      <td id=\"T_d1c72_row4_col7\" class=\"data row4 col7\" >0.0320</td>\n",
       "    </tr>\n",
       "    <tr>\n",
       "      <th id=\"T_d1c72_level0_row5\" class=\"row_heading level0 row5\" >llar</th>\n",
       "      <td id=\"T_d1c72_row5_col0\" class=\"data row5 col0\" >Lasso Least Angle Regression</td>\n",
       "      <td id=\"T_d1c72_row5_col1\" class=\"data row5 col1\" >295.9350</td>\n",
       "      <td id=\"T_d1c72_row5_col2\" class=\"data row5 col2\" >192130.4305</td>\n",
       "      <td id=\"T_d1c72_row5_col3\" class=\"data row5 col3\" >434.4315</td>\n",
       "      <td id=\"T_d1c72_row5_col4\" class=\"data row5 col4\" >0.8662</td>\n",
       "      <td id=\"T_d1c72_row5_col5\" class=\"data row5 col5\" >0.0529</td>\n",
       "      <td id=\"T_d1c72_row5_col6\" class=\"data row5 col6\" >0.0388</td>\n",
       "      <td id=\"T_d1c72_row5_col7\" class=\"data row5 col7\" >0.0330</td>\n",
       "    </tr>\n",
       "    <tr>\n",
       "      <th id=\"T_d1c72_level0_row6\" class=\"row_heading level0 row6\" >omp</th>\n",
       "      <td id=\"T_d1c72_row6_col0\" class=\"data row6 col0\" >Orthogonal Matching Pursuit</td>\n",
       "      <td id=\"T_d1c72_row6_col1\" class=\"data row6 col1\" >295.8321</td>\n",
       "      <td id=\"T_d1c72_row6_col2\" class=\"data row6 col2\" >192120.5197</td>\n",
       "      <td id=\"T_d1c72_row6_col3\" class=\"data row6 col3\" >434.4338</td>\n",
       "      <td id=\"T_d1c72_row6_col4\" class=\"data row6 col4\" >0.8663</td>\n",
       "      <td id=\"T_d1c72_row6_col5\" class=\"data row6 col5\" >0.0529</td>\n",
       "      <td id=\"T_d1c72_row6_col6\" class=\"data row6 col6\" >0.0388</td>\n",
       "      <td id=\"T_d1c72_row6_col7\" class=\"data row6 col7\" >0.0370</td>\n",
       "    </tr>\n",
       "    <tr>\n",
       "      <th id=\"T_d1c72_level0_row7\" class=\"row_heading level0 row7\" >ridge</th>\n",
       "      <td id=\"T_d1c72_row7_col0\" class=\"data row7 col0\" >Ridge Regression</td>\n",
       "      <td id=\"T_d1c72_row7_col1\" class=\"data row7 col1\" >296.0021</td>\n",
       "      <td id=\"T_d1c72_row7_col2\" class=\"data row7 col2\" >192212.4994</td>\n",
       "      <td id=\"T_d1c72_row7_col3\" class=\"data row7 col3\" >434.5219</td>\n",
       "      <td id=\"T_d1c72_row7_col4\" class=\"data row7 col4\" >0.8662</td>\n",
       "      <td id=\"T_d1c72_row7_col5\" class=\"data row7 col5\" >0.0529</td>\n",
       "      <td id=\"T_d1c72_row7_col6\" class=\"data row7 col6\" >0.0388</td>\n",
       "      <td id=\"T_d1c72_row7_col7\" class=\"data row7 col7\" >0.0320</td>\n",
       "    </tr>\n",
       "    <tr>\n",
       "      <th id=\"T_d1c72_level0_row8\" class=\"row_heading level0 row8\" >lar</th>\n",
       "      <td id=\"T_d1c72_row8_col0\" class=\"data row8 col0\" >Least Angle Regression</td>\n",
       "      <td id=\"T_d1c72_row8_col1\" class=\"data row8 col1\" >296.0022</td>\n",
       "      <td id=\"T_d1c72_row8_col2\" class=\"data row8 col2\" >192212.6771</td>\n",
       "      <td id=\"T_d1c72_row8_col3\" class=\"data row8 col3\" >434.5221</td>\n",
       "      <td id=\"T_d1c72_row8_col4\" class=\"data row8 col4\" >0.8662</td>\n",
       "      <td id=\"T_d1c72_row8_col5\" class=\"data row8 col5\" >0.0529</td>\n",
       "      <td id=\"T_d1c72_row8_col6\" class=\"data row8 col6\" >0.0388</td>\n",
       "      <td id=\"T_d1c72_row8_col7\" class=\"data row8 col7\" >0.0330</td>\n",
       "    </tr>\n",
       "    <tr>\n",
       "      <th id=\"T_d1c72_level0_row9\" class=\"row_heading level0 row9\" >lr</th>\n",
       "      <td id=\"T_d1c72_row9_col0\" class=\"data row9 col0\" >Linear Regression</td>\n",
       "      <td id=\"T_d1c72_row9_col1\" class=\"data row9 col1\" >296.0022</td>\n",
       "      <td id=\"T_d1c72_row9_col2\" class=\"data row9 col2\" >192212.6771</td>\n",
       "      <td id=\"T_d1c72_row9_col3\" class=\"data row9 col3\" >434.5221</td>\n",
       "      <td id=\"T_d1c72_row9_col4\" class=\"data row9 col4\" >0.8662</td>\n",
       "      <td id=\"T_d1c72_row9_col5\" class=\"data row9 col5\" >0.0529</td>\n",
       "      <td id=\"T_d1c72_row9_col6\" class=\"data row9 col6\" >0.0388</td>\n",
       "      <td id=\"T_d1c72_row9_col7\" class=\"data row9 col7\" >0.0330</td>\n",
       "    </tr>\n",
       "    <tr>\n",
       "      <th id=\"T_d1c72_level0_row10\" class=\"row_heading level0 row10\" >knn</th>\n",
       "      <td id=\"T_d1c72_row10_col0\" class=\"data row10 col0\" >K Neighbors Regressor</td>\n",
       "      <td id=\"T_d1c72_row10_col1\" class=\"data row10 col1\" >313.9620</td>\n",
       "      <td id=\"T_d1c72_row10_col2\" class=\"data row10 col2\" >191101.9177</td>\n",
       "      <td id=\"T_d1c72_row10_col3\" class=\"data row10 col3\" >436.8169</td>\n",
       "      <td id=\"T_d1c72_row10_col4\" class=\"data row10 col4\" >0.8678</td>\n",
       "      <td id=\"T_d1c72_row10_col5\" class=\"data row10 col5\" >0.0557</td>\n",
       "      <td id=\"T_d1c72_row10_col6\" class=\"data row10 col6\" >0.0413</td>\n",
       "      <td id=\"T_d1c72_row10_col7\" class=\"data row10 col7\" >0.0500</td>\n",
       "    </tr>\n",
       "    <tr>\n",
       "      <th id=\"T_d1c72_level0_row11\" class=\"row_heading level0 row11\" >huber</th>\n",
       "      <td id=\"T_d1c72_row11_col0\" class=\"data row11 col0\" >Huber Regressor</td>\n",
       "      <td id=\"T_d1c72_row11_col1\" class=\"data row11 col1\" >292.0740</td>\n",
       "      <td id=\"T_d1c72_row11_col2\" class=\"data row11 col2\" >195195.1038</td>\n",
       "      <td id=\"T_d1c72_row11_col3\" class=\"data row11 col3\" >438.2940</td>\n",
       "      <td id=\"T_d1c72_row11_col4\" class=\"data row11 col4\" >0.8642</td>\n",
       "      <td id=\"T_d1c72_row11_col5\" class=\"data row11 col5\" >0.0533</td>\n",
       "      <td id=\"T_d1c72_row11_col6\" class=\"data row11 col6\" >0.0379</td>\n",
       "      <td id=\"T_d1c72_row11_col7\" class=\"data row11 col7\" >0.0650</td>\n",
       "    </tr>\n",
       "    <tr>\n",
       "      <th id=\"T_d1c72_level0_row12\" class=\"row_heading level0 row12\" >rf</th>\n",
       "      <td id=\"T_d1c72_row12_col0\" class=\"data row12 col0\" >Random Forest Regressor</td>\n",
       "      <td id=\"T_d1c72_row12_col1\" class=\"data row12 col1\" >321.4254</td>\n",
       "      <td id=\"T_d1c72_row12_col2\" class=\"data row12 col2\" >198807.5884</td>\n",
       "      <td id=\"T_d1c72_row12_col3\" class=\"data row12 col3\" >445.5173</td>\n",
       "      <td id=\"T_d1c72_row12_col4\" class=\"data row12 col4\" >0.8628</td>\n",
       "      <td id=\"T_d1c72_row12_col5\" class=\"data row12 col5\" >0.0567</td>\n",
       "      <td id=\"T_d1c72_row12_col6\" class=\"data row12 col6\" >0.0424</td>\n",
       "      <td id=\"T_d1c72_row12_col7\" class=\"data row12 col7\" >0.5810</td>\n",
       "    </tr>\n",
       "    <tr>\n",
       "      <th id=\"T_d1c72_level0_row13\" class=\"row_heading level0 row13\" >et</th>\n",
       "      <td id=\"T_d1c72_row13_col0\" class=\"data row13 col0\" >Extra Trees Regressor</td>\n",
       "      <td id=\"T_d1c72_row13_col1\" class=\"data row13 col1\" >333.3497</td>\n",
       "      <td id=\"T_d1c72_row13_col2\" class=\"data row13 col2\" >220210.6829</td>\n",
       "      <td id=\"T_d1c72_row13_col3\" class=\"data row13 col3\" >468.8033</td>\n",
       "      <td id=\"T_d1c72_row13_col4\" class=\"data row13 col4\" >0.8481</td>\n",
       "      <td id=\"T_d1c72_row13_col5\" class=\"data row13 col5\" >0.0596</td>\n",
       "      <td id=\"T_d1c72_row13_col6\" class=\"data row13 col6\" >0.0439</td>\n",
       "      <td id=\"T_d1c72_row13_col7\" class=\"data row13 col7\" >0.4260</td>\n",
       "    </tr>\n",
       "    <tr>\n",
       "      <th id=\"T_d1c72_level0_row14\" class=\"row_heading level0 row14\" >par</th>\n",
       "      <td id=\"T_d1c72_row14_col0\" class=\"data row14 col0\" >Passive Aggressive Regressor</td>\n",
       "      <td id=\"T_d1c72_row14_col1\" class=\"data row14 col1\" >338.3360</td>\n",
       "      <td id=\"T_d1c72_row14_col2\" class=\"data row14 col2\" >235575.0043</td>\n",
       "      <td id=\"T_d1c72_row14_col3\" class=\"data row14 col3\" >482.9363</td>\n",
       "      <td id=\"T_d1c72_row14_col4\" class=\"data row14 col4\" >0.8366</td>\n",
       "      <td id=\"T_d1c72_row14_col5\" class=\"data row14 col5\" >0.0600</td>\n",
       "      <td id=\"T_d1c72_row14_col6\" class=\"data row14 col6\" >0.0442</td>\n",
       "      <td id=\"T_d1c72_row14_col7\" class=\"data row14 col7\" >0.0440</td>\n",
       "    </tr>\n",
       "    <tr>\n",
       "      <th id=\"T_d1c72_level0_row15\" class=\"row_heading level0 row15\" >ada</th>\n",
       "      <td id=\"T_d1c72_row15_col0\" class=\"data row15 col0\" >AdaBoost Regressor</td>\n",
       "      <td id=\"T_d1c72_row15_col1\" class=\"data row15 col1\" >417.5957</td>\n",
       "      <td id=\"T_d1c72_row15_col2\" class=\"data row15 col2\" >263994.7342</td>\n",
       "      <td id=\"T_d1c72_row15_col3\" class=\"data row15 col3\" >513.4346</td>\n",
       "      <td id=\"T_d1c72_row15_col4\" class=\"data row15 col4\" >0.8177</td>\n",
       "      <td id=\"T_d1c72_row15_col5\" class=\"data row15 col5\" >0.0696</td>\n",
       "      <td id=\"T_d1c72_row15_col6\" class=\"data row15 col6\" >0.0586</td>\n",
       "      <td id=\"T_d1c72_row15_col7\" class=\"data row15 col7\" >0.1300</td>\n",
       "    </tr>\n",
       "    <tr>\n",
       "      <th id=\"T_d1c72_level0_row16\" class=\"row_heading level0 row16\" >dt</th>\n",
       "      <td id=\"T_d1c72_row16_col0\" class=\"data row16 col0\" >Decision Tree Regressor</td>\n",
       "      <td id=\"T_d1c72_row16_col1\" class=\"data row16 col1\" >410.7310</td>\n",
       "      <td id=\"T_d1c72_row16_col2\" class=\"data row16 col2\" >327615.4473</td>\n",
       "      <td id=\"T_d1c72_row16_col3\" class=\"data row16 col3\" >571.7823</td>\n",
       "      <td id=\"T_d1c72_row16_col4\" class=\"data row16 col4\" >0.7741</td>\n",
       "      <td id=\"T_d1c72_row16_col5\" class=\"data row16 col5\" >0.0724</td>\n",
       "      <td id=\"T_d1c72_row16_col6\" class=\"data row16 col6\" >0.0541</td>\n",
       "      <td id=\"T_d1c72_row16_col7\" class=\"data row16 col7\" >0.0720</td>\n",
       "    </tr>\n",
       "    <tr>\n",
       "      <th id=\"T_d1c72_level0_row17\" class=\"row_heading level0 row17\" >dummy</th>\n",
       "      <td id=\"T_d1c72_row17_col0\" class=\"data row17 col0\" >Dummy Regressor</td>\n",
       "      <td id=\"T_d1c72_row17_col1\" class=\"data row17 col1\" >952.7681</td>\n",
       "      <td id=\"T_d1c72_row17_col2\" class=\"data row17 col2\" >1453789.0714</td>\n",
       "      <td id=\"T_d1c72_row17_col3\" class=\"data row17 col3\" >1205.0879</td>\n",
       "      <td id=\"T_d1c72_row17_col4\" class=\"data row17 col4\" >-0.0007</td>\n",
       "      <td id=\"T_d1c72_row17_col5\" class=\"data row17 col5\" >0.1636</td>\n",
       "      <td id=\"T_d1c72_row17_col6\" class=\"data row17 col6\" >0.1329</td>\n",
       "      <td id=\"T_d1c72_row17_col7\" class=\"data row17 col7\" >0.0350</td>\n",
       "    </tr>\n",
       "  </tbody>\n",
       "</table>\n"
      ],
      "text/plain": [
       "<pandas.io.formats.style.Styler at 0x75d57c48ac10>"
      ]
     },
     "metadata": {},
     "output_type": "display_data"
    },
    {
     "data": {
      "text/html": [],
      "text/plain": [
       "<IPython.core.display.HTML object>"
      ]
     },
     "metadata": {},
     "output_type": "display_data"
    }
   ],
   "source": [
    "best_model = exp.compare_models(sort='RMSE')"
   ]
  },
  {
   "cell_type": "markdown",
   "id": "8adfb846-66fd-4979-b074-0923d4394355",
   "metadata": {},
   "source": [
    "### W przypadku obu metryk najlepszym okazał się model **gbr**."
   ]
  },
  {
   "cell_type": "markdown",
   "id": "91932a05-d3a6-484e-ae32-1fc34dd5ebbb",
   "metadata": {},
   "source": [
    "#### Sprawdzimy teraz, jak sobie radzi nasz model na danych, których wcześniej nie widział."
   ]
  },
  {
   "cell_type": "code",
   "execution_count": 46,
   "id": "169ae935-be3e-45ad-9888-d4099ff50c86",
   "metadata": {},
   "outputs": [
    {
     "data": {
      "text/html": [
       "<style type=\"text/css\">\n",
       "</style>\n",
       "<table id=\"T_4a1b3\">\n",
       "  <thead>\n",
       "    <tr>\n",
       "      <th class=\"blank level0\" >&nbsp;</th>\n",
       "      <th id=\"T_4a1b3_level0_col0\" class=\"col_heading level0 col0\" >Model</th>\n",
       "      <th id=\"T_4a1b3_level0_col1\" class=\"col_heading level0 col1\" >MAE</th>\n",
       "      <th id=\"T_4a1b3_level0_col2\" class=\"col_heading level0 col2\" >MSE</th>\n",
       "      <th id=\"T_4a1b3_level0_col3\" class=\"col_heading level0 col3\" >RMSE</th>\n",
       "      <th id=\"T_4a1b3_level0_col4\" class=\"col_heading level0 col4\" >R2</th>\n",
       "      <th id=\"T_4a1b3_level0_col5\" class=\"col_heading level0 col5\" >RMSLE</th>\n",
       "      <th id=\"T_4a1b3_level0_col6\" class=\"col_heading level0 col6\" >MAPE</th>\n",
       "    </tr>\n",
       "  </thead>\n",
       "  <tbody>\n",
       "    <tr>\n",
       "      <th id=\"T_4a1b3_level0_row0\" class=\"row_heading level0 row0\" >0</th>\n",
       "      <td id=\"T_4a1b3_row0_col0\" class=\"data row0 col0\" >Gradient Boosting Regressor</td>\n",
       "      <td id=\"T_4a1b3_row0_col1\" class=\"data row0 col1\" >282.2056</td>\n",
       "      <td id=\"T_4a1b3_row0_col2\" class=\"data row0 col2\" >154422.9401</td>\n",
       "      <td id=\"T_4a1b3_row0_col3\" class=\"data row0 col3\" >392.9668</td>\n",
       "      <td id=\"T_4a1b3_row0_col4\" class=\"data row0 col4\" >0.8951</td>\n",
       "      <td id=\"T_4a1b3_row0_col5\" class=\"data row0 col5\" >0.0499</td>\n",
       "      <td id=\"T_4a1b3_row0_col6\" class=\"data row0 col6\" >0.0370</td>\n",
       "    </tr>\n",
       "  </tbody>\n",
       "</table>\n"
      ],
      "text/plain": [
       "<pandas.io.formats.style.Styler at 0x75d57c3c17d0>"
      ]
     },
     "metadata": {},
     "output_type": "display_data"
    },
    {
     "data": {
      "text/html": [
       "<style type=\"text/css\">\n",
       "</style>\n",
       "<table id=\"T_169f1\">\n",
       "  <thead>\n",
       "    <tr>\n",
       "      <th class=\"blank level0\" >&nbsp;</th>\n",
       "      <th id=\"T_169f1_level0_col0\" class=\"col_heading level0 col0\" >Model</th>\n",
       "      <th id=\"T_169f1_level0_col1\" class=\"col_heading level0 col1\" >MAE</th>\n",
       "      <th id=\"T_169f1_level0_col2\" class=\"col_heading level0 col2\" >MSE</th>\n",
       "      <th id=\"T_169f1_level0_col3\" class=\"col_heading level0 col3\" >RMSE</th>\n",
       "      <th id=\"T_169f1_level0_col4\" class=\"col_heading level0 col4\" >R2</th>\n",
       "      <th id=\"T_169f1_level0_col5\" class=\"col_heading level0 col5\" >RMSLE</th>\n",
       "      <th id=\"T_169f1_level0_col6\" class=\"col_heading level0 col6\" >MAPE</th>\n",
       "    </tr>\n",
       "  </thead>\n",
       "  <tbody>\n",
       "    <tr>\n",
       "      <th id=\"T_169f1_level0_row0\" class=\"row_heading level0 row0\" >0</th>\n",
       "      <td id=\"T_169f1_row0_col0\" class=\"data row0 col0\" >Gradient Boosting Regressor</td>\n",
       "      <td id=\"T_169f1_row0_col1\" class=\"data row0 col1\" >340.5979</td>\n",
       "      <td id=\"T_169f1_row0_col2\" class=\"data row0 col2\" >195393.8821</td>\n",
       "      <td id=\"T_169f1_row0_col3\" class=\"data row0 col3\" >442.0338</td>\n",
       "      <td id=\"T_169f1_row0_col4\" class=\"data row0 col4\" >0.8661</td>\n",
       "      <td id=\"T_169f1_row0_col5\" class=\"data row0 col5\" >0.0560</td>\n",
       "      <td id=\"T_169f1_row0_col6\" class=\"data row0 col6\" >0.0451</td>\n",
       "    </tr>\n",
       "  </tbody>\n",
       "</table>\n"
      ],
      "text/plain": [
       "<pandas.io.formats.style.Styler at 0x75d56b6ce490>"
      ]
     },
     "metadata": {},
     "output_type": "display_data"
    }
   ],
   "source": [
    "# porownanie efektow treningu\n",
    "trening = predict_model(best_model, data=bieg_2023_df)\n",
    "# z przewidywaniem wynikow na nowym zbiorze\n",
    "predict = predict_model(best_model, data=bieg_2024_df)"
   ]
  },
  {
   "cell_type": "code",
   "execution_count": 47,
   "id": "81e51e98-9aa5-4cf8-baff-98e6a356039c",
   "metadata": {},
   "outputs": [
    {
     "data": {
      "text/html": [],
      "text/plain": [
       "<IPython.core.display.HTML object>"
      ]
     },
     "metadata": {},
     "output_type": "display_data"
    },
    {
     "data": {
      "image/png": "[encoded data removed]",
      "text/plain": [
       "<Figure size 800x500 with 1 Axes>"
      ]
     },
     "metadata": {},
     "output_type": "display_data"
    }
   ],
   "source": [
    "# sprawdzmy jeszcze kolejnosc istotnosci danych\n",
    "exp.plot_model(best_model, plot='feature')"
   ]
  },
  {
   "cell_type": "markdown",
   "id": "30fab0df-b4a7-4ebe-90f8-b9eb7234bed6",
   "metadata": {},
   "source": [
    "#### Hmm, więc płeć jednak nie ma znaczenia? Trochę inaczej mi się wydawało, gdy analizowałem dane na początku..."
   ]
  },
  {
   "cell_type": "code",
   "execution_count": 48,
   "id": "31ba073b-2c4d-449b-8fb7-0ceb8c385ff0",
   "metadata": {},
   "outputs": [
    {
     "data": {
      "text/html": [],
      "text/plain": [
       "<IPython.core.display.HTML object>"
      ]
     },
     "metadata": {},
     "output_type": "display_data"
    },
    {
     "data": {
      "image/png": "[encoded data removed]",
      "text/plain": [
       "<Figure size 800x550 with 1 Axes>"
      ]
     },
     "metadata": {},
     "output_type": "display_data"
    }
   ],
   "source": [
    "# zobaczmy jeszcze wykres bledow (residuals), a konkretnie, jak dobrze model przewiduje dane w porownaniu do rzeczywistych wartosci\n",
    "exp.plot_model(best_model, plot='error')"
   ]
  },
  {
   "cell_type": "markdown",
   "id": "90dd596a-5bb4-4fd4-a858-654b69e0c69f",
   "metadata": {},
   "source": [
    "### Wzbogaćmy teraz nasz model trenując go na całym zbiorze danych."
   ]
  },
  {
   "cell_type": "code",
   "execution_count": 51,
   "id": "ad0301ab-6c22-44ac-ad9e-7f5d2d3353ae",
   "metadata": {},
   "outputs": [],
   "source": [
    "# Sprawdź, czy bieg_2023_df i bieg_2024_df są gotowe i mają te same struktury kolumn\n",
    "combined_data = pd.concat([bieg_2023_df, bieg_2024_df], ignore_index=True)\n",
    "\n",
    "# Inicjalizacja setup na całym zbiorze danych\n",
    "exp = setup(data=combined_data, target='Czas', session_id=123, verbose=False)\n",
    "\n",
    "# Trening najlepszego modelu (best_model) na nowym zbiorze danych\n",
    "best_final_model = finalize_model(best_model)"
   ]
  },
  {
   "cell_type": "code",
   "execution_count": 53,
   "id": "847d7332-d6cd-499c-a207-1a45ac44f057",
   "metadata": {},
   "outputs": [
    {
     "data": {
      "text/html": [
       "<style type=\"text/css\">\n",
       "</style>\n",
       "<table id=\"T_d1013\">\n",
       "  <thead>\n",
       "    <tr>\n",
       "      <th class=\"blank level0\" >&nbsp;</th>\n",
       "      <th id=\"T_d1013_level0_col0\" class=\"col_heading level0 col0\" >Model</th>\n",
       "      <th id=\"T_d1013_level0_col1\" class=\"col_heading level0 col1\" >MAE</th>\n",
       "      <th id=\"T_d1013_level0_col2\" class=\"col_heading level0 col2\" >MSE</th>\n",
       "      <th id=\"T_d1013_level0_col3\" class=\"col_heading level0 col3\" >RMSE</th>\n",
       "      <th id=\"T_d1013_level0_col4\" class=\"col_heading level0 col4\" >R2</th>\n",
       "      <th id=\"T_d1013_level0_col5\" class=\"col_heading level0 col5\" >RMSLE</th>\n",
       "      <th id=\"T_d1013_level0_col6\" class=\"col_heading level0 col6\" >MAPE</th>\n",
       "    </tr>\n",
       "  </thead>\n",
       "  <tbody>\n",
       "    <tr>\n",
       "      <th id=\"T_d1013_level0_row0\" class=\"row_heading level0 row0\" >0</th>\n",
       "      <td id=\"T_d1013_row0_col0\" class=\"data row0 col0\" >Gradient Boosting Regressor</td>\n",
       "      <td id=\"T_d1013_row0_col1\" class=\"data row0 col1\" >314.7943</td>\n",
       "      <td id=\"T_d1013_row0_col2\" class=\"data row0 col2\" >177288.7933</td>\n",
       "      <td id=\"T_d1013_row0_col3\" class=\"data row0 col3\" >421.0568</td>\n",
       "      <td id=\"T_d1013_row0_col4\" class=\"data row0 col4\" >0.8792</td>\n",
       "      <td id=\"T_d1013_row0_col5\" class=\"data row0 col5\" >0.0534</td>\n",
       "      <td id=\"T_d1013_row0_col6\" class=\"data row0 col6\" >0.0415</td>\n",
       "    </tr>\n",
       "  </tbody>\n",
       "</table>\n"
      ],
      "text/plain": [
       "<pandas.io.formats.style.Styler at 0x75d57ce4f290>"
      ]
     },
     "metadata": {},
     "output_type": "display_data"
    },
    {
     "data": {
      "text/html": [
       "<style type=\"text/css\">\n",
       "</style>\n",
       "<table id=\"T_40796\">\n",
       "  <thead>\n",
       "    <tr>\n",
       "      <th class=\"blank level0\" >&nbsp;</th>\n",
       "      <th id=\"T_40796_level0_col0\" class=\"col_heading level0 col0\" >Model</th>\n",
       "      <th id=\"T_40796_level0_col1\" class=\"col_heading level0 col1\" >MAE</th>\n",
       "      <th id=\"T_40796_level0_col2\" class=\"col_heading level0 col2\" >MSE</th>\n",
       "      <th id=\"T_40796_level0_col3\" class=\"col_heading level0 col3\" >RMSE</th>\n",
       "      <th id=\"T_40796_level0_col4\" class=\"col_heading level0 col4\" >R2</th>\n",
       "      <th id=\"T_40796_level0_col5\" class=\"col_heading level0 col5\" >RMSLE</th>\n",
       "      <th id=\"T_40796_level0_col6\" class=\"col_heading level0 col6\" >MAPE</th>\n",
       "    </tr>\n",
       "  </thead>\n",
       "  <tbody>\n",
       "    <tr>\n",
       "      <th id=\"T_40796_level0_row0\" class=\"row_heading level0 row0\" >0</th>\n",
       "      <td id=\"T_40796_row0_col0\" class=\"data row0 col0\" >Gradient Boosting Regressor</td>\n",
       "      <td id=\"T_40796_row0_col1\" class=\"data row0 col1\" >294.3226</td>\n",
       "      <td id=\"T_40796_row0_col2\" class=\"data row0 col2\" >164077.1275</td>\n",
       "      <td id=\"T_40796_row0_col3\" class=\"data row0 col3\" >405.0643</td>\n",
       "      <td id=\"T_40796_row0_col4\" class=\"data row0 col4\" >0.8882</td>\n",
       "      <td id=\"T_40796_row0_col5\" class=\"data row0 col5\" >0.0513</td>\n",
       "      <td id=\"T_40796_row0_col6\" class=\"data row0 col6\" >0.0385</td>\n",
       "    </tr>\n",
       "  </tbody>\n",
       "</table>\n"
      ],
      "text/plain": [
       "<pandas.io.formats.style.Styler at 0x75d57cf37a90>"
      ]
     },
     "metadata": {},
     "output_type": "display_data"
    }
   ],
   "source": [
    "# Zobaczymy, czy sie poprawił i o ile\n",
    "stary = predict_model(best_model, data=combined_data)\n",
    "nowy = predict_model(best_final_model, data=combined_data)"
   ]
  },
  {
   "cell_type": "markdown",
   "id": "3be4b6ce-3494-4df7-a4ee-d5d6ace1ec8f",
   "metadata": {},
   "source": [
    "### Znaczenie i interpretacja poszczególnych metryki naszego modelu:\n",
    "\n",
    "1. **MAE (Mean Absolute Error) = 294.32**: \\\n",
    "MAE mierzy przeciętną wielkość błędów przewidywań bez względu na kierunek. Jest to stosunkowo przystępna miara, która w naszym przypadku oznacza, że przeciętny błąd w przewidywaniu czasu ukończenia biegu wynosi około 294 sekund (około 5 minut). Im mniejsza wartość, tym lepiej.\n",
    "\n",
    "2. **MSE (Mean Squared Error) = 164077.13** i **RMSE (Root Mean Squared Error) = 405.06**: \\\n",
    "MSE i RMSE są bardziej czułymi metrykami na duże błędy, ponieważ błędy są podnoszone do kwadratu. RMSE wynoszące 405 sekund (niemal 7 minut) sugeruje, że dla niektórych prognoz może to być dość znaczący błąd. Mimo to, RMSE jest standardowym wskaźnikiem wydajności modelu regresyjnego.\n",
    "\n",
    "3. **R2 (R-squared) = 0.8882**: \\\n",
    "R² mierzy, jak dużo wariancji w danych jest wyjaśniane przez model. Wartość 0.8882 oznacza, że model wyjaśnia 88.82% wariancji w danych, co jest bardzo dobrym wynikiem. Wskazuje na to, że model dobrze odpowiada na zależności w danych.\n",
    "\n",
    "4. **RMSLE (Root Mean Squared Logarithmic Error) = 0.0513**: \\\n",
    "RMSLE jest przydatne, gdy różnice w wartościach są istotne. Metryka ta jest mała, co sugeruje, że model dobrze poradził sobie w przewidywaniu logarytmicznego błędu. \n",
    "\n",
    "5. **MAPE (Mean Absolute Percentage Error) = 0.0385**: \\\n",
    "MAPE określa, jak duże są błędy w procentach. Wartość 0.0385 (około 3.85%) oznacza, że model ma stosunkowo małe błędy w procentach, co jest dobrą wiadomością.\n",
    "\n",
    "### Podsumowanie\n",
    "Na podstawie tych metryk można stwierdzić, że model **Gradient Boosting Regressor** jest naprawdę dobry. Model ma niskie wartości MAE, RMSE i MAPE, co wskazuje na dobre prognozy. Ponadto wartość R² bliska 0.9 sugeruje, że model wychwytuje większość istotnych zależności w danych."
   ]
  },
  {
   "cell_type": "markdown",
   "id": "3d588a8d-b3c2-4179-b870-862670cb2e3d",
   "metadata": {},
   "source": [
    "#### Hmm, jest dobrze, ale d... nie urywa. No trudno. Idziemy dalej z tym, co mamy."
   ]
  },
  {
   "cell_type": "code",
   "execution_count": 56,
   "id": "10bc1ab2-d44b-4419-b46e-db802d13302b",
   "metadata": {},
   "outputs": [
    {
     "name": "stdout",
     "output_type": "stream",
     "text": [
      "Transformation Pipeline and Model Successfully Saved\n"
     ]
    },
    {
     "data": {
      "text/plain": [
       "(Pipeline(memory=Memory(location=None),\n",
       "          steps=[('numerical_imputer',\n",
       "                  TransformerWrapper(include=['Wiek', '5 km Czas'],\n",
       "                                     transformer=SimpleImputer())),\n",
       "                 ('categorical_imputer',\n",
       "                  TransformerWrapper(include=['Płeć'],\n",
       "                                     transformer=SimpleImputer(strategy='most_frequent'))),\n",
       "                 ('ordinal_encoding',\n",
       "                  TransformerWrapper(include=['Płeć'],\n",
       "                                     transformer=OrdinalEncoder(cols=['Płeć'],\n",
       "                                                                handle_missing='return_nan',\n",
       "                                                                mapping=[{'col': 'Płeć',\n",
       "                                                                          'data_type': dtype('O'),\n",
       "                                                                          'mapping': K      0\n",
       " M      1\n",
       " NaN   -1\n",
       " dtype: int64}]))),\n",
       "                 ('clean_column_names',\n",
       "                  TransformerWrapper(transformer=CleanColumnNames())),\n",
       "                 ('actual_estimator',\n",
       "                  GradientBoostingRegressor(random_state=123))]),\n",
       " 'maraton_rafal_model.pkl')"
      ]
     },
     "execution_count": 56,
     "metadata": {},
     "output_type": "execute_result"
    }
   ],
   "source": [
    "# Zapiszemy sobie nasz model lokalnie\n",
    "save_model(best_final_model, 'maraton_rafal_model')"
   ]
  },
  {
   "cell_type": "code",
   "execution_count": 60,
   "id": "2503bbc3-15e1-45dd-b64e-718507580cdc",
   "metadata": {},
   "outputs": [],
   "source": [
    "# umiescimy go w Digital Ocean\n",
    "s3.upload_file('maraton_rafal_model.pkl', BUCKET_NAME, 'maraton_rafal_model.pkl')"
   ]
  },
  {
   "cell_type": "code",
   "execution_count": null,
   "id": "2e9a659b-bfea-4525-9ae0-7c8d3d193b44",
   "metadata": {},
   "outputs": [],
   "source": []
  }
 ],
 "metadata": {
  "kernelspec": {
   "display_name": "Python 3 (ipykernel)",
   "language": "python",
   "name": "python3"
  },
  "language_info": {
   "codemirror_mode": {
    "name": "ipython",
    "version": 3
   },
   "file_extension": ".py",
   "mimetype": "text/x-python",
   "name": "python",
   "nbconvert_exporter": "python",
   "pygments_lexer": "ipython3",
   "version": "3.11.11"
  }
 },
 "nbformat": 4,
 "nbformat_minor": 5
}
